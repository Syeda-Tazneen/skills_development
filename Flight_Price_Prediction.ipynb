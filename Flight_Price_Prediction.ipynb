{
  "cells": [
    {
      "cell_type": "markdown",
      "metadata": {
        "id": "view-in-github",
        "colab_type": "text"
      },
      "source": [
        "<a href=\"https://colab.research.google.com/github/Syeda-Tazneen/skills_development/blob/main/Flight_Price_Prediction.ipynb\" target=\"_parent\"><img src=\"https://colab.research.google.com/assets/colab-badge.svg\" alt=\"Open In Colab\"/></a>"
      ]
    },
    {
      "cell_type": "markdown",
      "id": "87ec5eea",
      "metadata": {
        "id": "87ec5eea"
      },
      "source": [
        "# Objective of the Model is to predict the Price of Flight"
      ]
    },
    {
      "cell_type": "code",
      "execution_count": null,
      "id": "83665044",
      "metadata": {
        "id": "83665044"
      },
      "outputs": [],
      "source": [
        "# Importing Basic Packages\n",
        "import numpy as np\n",
        "import pandas as pd\n",
        "import matplotlib.pyplot as plt\n",
        "%matplotlib inline\n",
        "import seaborn as sns\n",
        "sns.set()\n",
        "import warnings\n",
        "warnings.filterwarnings('ignore')\n"
      ]
    },
    {
      "cell_type": "code",
      "execution_count": null,
      "id": "aeda253d",
      "metadata": {
        "id": "aeda253d"
      },
      "outputs": [],
      "source": [
        "flight_price=pd.read_excel('C://Users//Syeda Tazneen//Desktop//Datasets_final//Flight_Price_Train.xlsx')"
      ]
    },
    {
      "cell_type": "code",
      "execution_count": null,
      "id": "8fd18000",
      "metadata": {
        "id": "8fd18000",
        "outputId": "a174d5b2-b42d-4019-db9e-6d769429e6e6"
      },
      "outputs": [
        {
          "data": {
            "text/html": [
              "<div>\n",
              "<style scoped>\n",
              "    .dataframe tbody tr th:only-of-type {\n",
              "        vertical-align: middle;\n",
              "    }\n",
              "\n",
              "    .dataframe tbody tr th {\n",
              "        vertical-align: top;\n",
              "    }\n",
              "\n",
              "    .dataframe thead th {\n",
              "        text-align: right;\n",
              "    }\n",
              "</style>\n",
              "<table border=\"1\" class=\"dataframe\">\n",
              "  <thead>\n",
              "    <tr style=\"text-align: right;\">\n",
              "      <th></th>\n",
              "      <th>Airline</th>\n",
              "      <th>Date_of_Journey</th>\n",
              "      <th>Source</th>\n",
              "      <th>Destination</th>\n",
              "      <th>Route</th>\n",
              "      <th>Dep_Time</th>\n",
              "      <th>Arrival_Time</th>\n",
              "      <th>Duration</th>\n",
              "      <th>Total_Stops</th>\n",
              "      <th>Additional_Info</th>\n",
              "      <th>Price</th>\n",
              "    </tr>\n",
              "  </thead>\n",
              "  <tbody>\n",
              "    <tr>\n",
              "      <th>0</th>\n",
              "      <td>IndiGo</td>\n",
              "      <td>24/03/2019</td>\n",
              "      <td>Banglore</td>\n",
              "      <td>New Delhi</td>\n",
              "      <td>BLR → DEL</td>\n",
              "      <td>22:20</td>\n",
              "      <td>01:10 22 Mar</td>\n",
              "      <td>2h 50m</td>\n",
              "      <td>non-stop</td>\n",
              "      <td>No info</td>\n",
              "      <td>3897</td>\n",
              "    </tr>\n",
              "    <tr>\n",
              "      <th>1</th>\n",
              "      <td>Air India</td>\n",
              "      <td>1/05/2019</td>\n",
              "      <td>Kolkata</td>\n",
              "      <td>Banglore</td>\n",
              "      <td>CCU → IXR → BBI → BLR</td>\n",
              "      <td>05:50</td>\n",
              "      <td>13:15</td>\n",
              "      <td>7h 25m</td>\n",
              "      <td>2 stops</td>\n",
              "      <td>No info</td>\n",
              "      <td>7662</td>\n",
              "    </tr>\n",
              "    <tr>\n",
              "      <th>2</th>\n",
              "      <td>Jet Airways</td>\n",
              "      <td>9/06/2019</td>\n",
              "      <td>Delhi</td>\n",
              "      <td>Cochin</td>\n",
              "      <td>DEL → LKO → BOM → COK</td>\n",
              "      <td>09:25</td>\n",
              "      <td>04:25 10 Jun</td>\n",
              "      <td>19h</td>\n",
              "      <td>2 stops</td>\n",
              "      <td>No info</td>\n",
              "      <td>13882</td>\n",
              "    </tr>\n",
              "    <tr>\n",
              "      <th>3</th>\n",
              "      <td>IndiGo</td>\n",
              "      <td>12/05/2019</td>\n",
              "      <td>Kolkata</td>\n",
              "      <td>Banglore</td>\n",
              "      <td>CCU → NAG → BLR</td>\n",
              "      <td>18:05</td>\n",
              "      <td>23:30</td>\n",
              "      <td>5h 25m</td>\n",
              "      <td>1 stop</td>\n",
              "      <td>No info</td>\n",
              "      <td>6218</td>\n",
              "    </tr>\n",
              "    <tr>\n",
              "      <th>4</th>\n",
              "      <td>IndiGo</td>\n",
              "      <td>01/03/2019</td>\n",
              "      <td>Banglore</td>\n",
              "      <td>New Delhi</td>\n",
              "      <td>BLR → NAG → DEL</td>\n",
              "      <td>16:50</td>\n",
              "      <td>21:35</td>\n",
              "      <td>4h 45m</td>\n",
              "      <td>1 stop</td>\n",
              "      <td>No info</td>\n",
              "      <td>13302</td>\n",
              "    </tr>\n",
              "    <tr>\n",
              "      <th>...</th>\n",
              "      <td>...</td>\n",
              "      <td>...</td>\n",
              "      <td>...</td>\n",
              "      <td>...</td>\n",
              "      <td>...</td>\n",
              "      <td>...</td>\n",
              "      <td>...</td>\n",
              "      <td>...</td>\n",
              "      <td>...</td>\n",
              "      <td>...</td>\n",
              "      <td>...</td>\n",
              "    </tr>\n",
              "    <tr>\n",
              "      <th>10678</th>\n",
              "      <td>Air Asia</td>\n",
              "      <td>9/04/2019</td>\n",
              "      <td>Kolkata</td>\n",
              "      <td>Banglore</td>\n",
              "      <td>CCU → BLR</td>\n",
              "      <td>19:55</td>\n",
              "      <td>22:25</td>\n",
              "      <td>2h 30m</td>\n",
              "      <td>non-stop</td>\n",
              "      <td>No info</td>\n",
              "      <td>4107</td>\n",
              "    </tr>\n",
              "    <tr>\n",
              "      <th>10679</th>\n",
              "      <td>Air India</td>\n",
              "      <td>27/04/2019</td>\n",
              "      <td>Kolkata</td>\n",
              "      <td>Banglore</td>\n",
              "      <td>CCU → BLR</td>\n",
              "      <td>20:45</td>\n",
              "      <td>23:20</td>\n",
              "      <td>2h 35m</td>\n",
              "      <td>non-stop</td>\n",
              "      <td>No info</td>\n",
              "      <td>4145</td>\n",
              "    </tr>\n",
              "    <tr>\n",
              "      <th>10680</th>\n",
              "      <td>Jet Airways</td>\n",
              "      <td>27/04/2019</td>\n",
              "      <td>Banglore</td>\n",
              "      <td>Delhi</td>\n",
              "      <td>BLR → DEL</td>\n",
              "      <td>08:20</td>\n",
              "      <td>11:20</td>\n",
              "      <td>3h</td>\n",
              "      <td>non-stop</td>\n",
              "      <td>No info</td>\n",
              "      <td>7229</td>\n",
              "    </tr>\n",
              "    <tr>\n",
              "      <th>10681</th>\n",
              "      <td>Vistara</td>\n",
              "      <td>01/03/2019</td>\n",
              "      <td>Banglore</td>\n",
              "      <td>New Delhi</td>\n",
              "      <td>BLR → DEL</td>\n",
              "      <td>11:30</td>\n",
              "      <td>14:10</td>\n",
              "      <td>2h 40m</td>\n",
              "      <td>non-stop</td>\n",
              "      <td>No info</td>\n",
              "      <td>12648</td>\n",
              "    </tr>\n",
              "    <tr>\n",
              "      <th>10682</th>\n",
              "      <td>Air India</td>\n",
              "      <td>9/05/2019</td>\n",
              "      <td>Delhi</td>\n",
              "      <td>Cochin</td>\n",
              "      <td>DEL → GOI → BOM → COK</td>\n",
              "      <td>10:55</td>\n",
              "      <td>19:15</td>\n",
              "      <td>8h 20m</td>\n",
              "      <td>2 stops</td>\n",
              "      <td>No info</td>\n",
              "      <td>11753</td>\n",
              "    </tr>\n",
              "  </tbody>\n",
              "</table>\n",
              "<p>10683 rows × 11 columns</p>\n",
              "</div>"
            ],
            "text/plain": [
              "           Airline Date_of_Journey    Source Destination  \\\n",
              "0           IndiGo      24/03/2019  Banglore   New Delhi   \n",
              "1        Air India       1/05/2019   Kolkata    Banglore   \n",
              "2      Jet Airways       9/06/2019     Delhi      Cochin   \n",
              "3           IndiGo      12/05/2019   Kolkata    Banglore   \n",
              "4           IndiGo      01/03/2019  Banglore   New Delhi   \n",
              "...            ...             ...       ...         ...   \n",
              "10678     Air Asia       9/04/2019   Kolkata    Banglore   \n",
              "10679    Air India      27/04/2019   Kolkata    Banglore   \n",
              "10680  Jet Airways      27/04/2019  Banglore       Delhi   \n",
              "10681      Vistara      01/03/2019  Banglore   New Delhi   \n",
              "10682    Air India       9/05/2019     Delhi      Cochin   \n",
              "\n",
              "                       Route Dep_Time  Arrival_Time Duration Total_Stops  \\\n",
              "0                  BLR → DEL    22:20  01:10 22 Mar   2h 50m    non-stop   \n",
              "1      CCU → IXR → BBI → BLR    05:50         13:15   7h 25m     2 stops   \n",
              "2      DEL → LKO → BOM → COK    09:25  04:25 10 Jun      19h     2 stops   \n",
              "3            CCU → NAG → BLR    18:05         23:30   5h 25m      1 stop   \n",
              "4            BLR → NAG → DEL    16:50         21:35   4h 45m      1 stop   \n",
              "...                      ...      ...           ...      ...         ...   \n",
              "10678              CCU → BLR    19:55         22:25   2h 30m    non-stop   \n",
              "10679              CCU → BLR    20:45         23:20   2h 35m    non-stop   \n",
              "10680              BLR → DEL    08:20         11:20       3h    non-stop   \n",
              "10681              BLR → DEL    11:30         14:10   2h 40m    non-stop   \n",
              "10682  DEL → GOI → BOM → COK    10:55         19:15   8h 20m     2 stops   \n",
              "\n",
              "      Additional_Info  Price  \n",
              "0             No info   3897  \n",
              "1             No info   7662  \n",
              "2             No info  13882  \n",
              "3             No info   6218  \n",
              "4             No info  13302  \n",
              "...               ...    ...  \n",
              "10678         No info   4107  \n",
              "10679         No info   4145  \n",
              "10680         No info   7229  \n",
              "10681         No info  12648  \n",
              "10682         No info  11753  \n",
              "\n",
              "[10683 rows x 11 columns]"
            ]
          },
          "execution_count": 3,
          "metadata": {},
          "output_type": "execute_result"
        }
      ],
      "source": [
        "flight_price"
      ]
    },
    {
      "cell_type": "code",
      "execution_count": null,
      "id": "d9780935",
      "metadata": {
        "id": "d9780935"
      },
      "outputs": [],
      "source": [
        "flight_price_test=pd.read_excel('C://Users//Syeda Tazneen//Desktop//Datasets_final//Flight_Price_Test.xlsx')"
      ]
    },
    {
      "cell_type": "code",
      "execution_count": null,
      "id": "1f35fac2",
      "metadata": {
        "id": "1f35fac2",
        "outputId": "655ff8d5-c629-4a2e-b929-fddbbc2e3e3d"
      },
      "outputs": [
        {
          "data": {
            "text/html": [
              "<div>\n",
              "<style scoped>\n",
              "    .dataframe tbody tr th:only-of-type {\n",
              "        vertical-align: middle;\n",
              "    }\n",
              "\n",
              "    .dataframe tbody tr th {\n",
              "        vertical-align: top;\n",
              "    }\n",
              "\n",
              "    .dataframe thead th {\n",
              "        text-align: right;\n",
              "    }\n",
              "</style>\n",
              "<table border=\"1\" class=\"dataframe\">\n",
              "  <thead>\n",
              "    <tr style=\"text-align: right;\">\n",
              "      <th></th>\n",
              "      <th>Airline</th>\n",
              "      <th>Date_of_Journey</th>\n",
              "      <th>Source</th>\n",
              "      <th>Destination</th>\n",
              "      <th>Route</th>\n",
              "      <th>Dep_Time</th>\n",
              "      <th>Arrival_Time</th>\n",
              "      <th>Duration</th>\n",
              "      <th>Total_Stops</th>\n",
              "      <th>Additional_Info</th>\n",
              "    </tr>\n",
              "  </thead>\n",
              "  <tbody>\n",
              "    <tr>\n",
              "      <th>0</th>\n",
              "      <td>Jet Airways</td>\n",
              "      <td>6/06/2019</td>\n",
              "      <td>Delhi</td>\n",
              "      <td>Cochin</td>\n",
              "      <td>DEL → BOM → COK</td>\n",
              "      <td>17:30</td>\n",
              "      <td>04:25 07 Jun</td>\n",
              "      <td>10h 55m</td>\n",
              "      <td>1 stop</td>\n",
              "      <td>No info</td>\n",
              "    </tr>\n",
              "    <tr>\n",
              "      <th>1</th>\n",
              "      <td>IndiGo</td>\n",
              "      <td>12/05/2019</td>\n",
              "      <td>Kolkata</td>\n",
              "      <td>Banglore</td>\n",
              "      <td>CCU → MAA → BLR</td>\n",
              "      <td>06:20</td>\n",
              "      <td>10:20</td>\n",
              "      <td>4h</td>\n",
              "      <td>1 stop</td>\n",
              "      <td>No info</td>\n",
              "    </tr>\n",
              "    <tr>\n",
              "      <th>2</th>\n",
              "      <td>Jet Airways</td>\n",
              "      <td>21/05/2019</td>\n",
              "      <td>Delhi</td>\n",
              "      <td>Cochin</td>\n",
              "      <td>DEL → BOM → COK</td>\n",
              "      <td>19:15</td>\n",
              "      <td>19:00 22 May</td>\n",
              "      <td>23h 45m</td>\n",
              "      <td>1 stop</td>\n",
              "      <td>In-flight meal not included</td>\n",
              "    </tr>\n",
              "    <tr>\n",
              "      <th>3</th>\n",
              "      <td>Multiple carriers</td>\n",
              "      <td>21/05/2019</td>\n",
              "      <td>Delhi</td>\n",
              "      <td>Cochin</td>\n",
              "      <td>DEL → BOM → COK</td>\n",
              "      <td>08:00</td>\n",
              "      <td>21:00</td>\n",
              "      <td>13h</td>\n",
              "      <td>1 stop</td>\n",
              "      <td>No info</td>\n",
              "    </tr>\n",
              "    <tr>\n",
              "      <th>4</th>\n",
              "      <td>Air Asia</td>\n",
              "      <td>24/06/2019</td>\n",
              "      <td>Banglore</td>\n",
              "      <td>Delhi</td>\n",
              "      <td>BLR → DEL</td>\n",
              "      <td>23:55</td>\n",
              "      <td>02:45 25 Jun</td>\n",
              "      <td>2h 50m</td>\n",
              "      <td>non-stop</td>\n",
              "      <td>No info</td>\n",
              "    </tr>\n",
              "    <tr>\n",
              "      <th>...</th>\n",
              "      <td>...</td>\n",
              "      <td>...</td>\n",
              "      <td>...</td>\n",
              "      <td>...</td>\n",
              "      <td>...</td>\n",
              "      <td>...</td>\n",
              "      <td>...</td>\n",
              "      <td>...</td>\n",
              "      <td>...</td>\n",
              "      <td>...</td>\n",
              "    </tr>\n",
              "    <tr>\n",
              "      <th>2666</th>\n",
              "      <td>Air India</td>\n",
              "      <td>6/06/2019</td>\n",
              "      <td>Kolkata</td>\n",
              "      <td>Banglore</td>\n",
              "      <td>CCU → DEL → BLR</td>\n",
              "      <td>20:30</td>\n",
              "      <td>20:25 07 Jun</td>\n",
              "      <td>23h 55m</td>\n",
              "      <td>1 stop</td>\n",
              "      <td>No info</td>\n",
              "    </tr>\n",
              "    <tr>\n",
              "      <th>2667</th>\n",
              "      <td>IndiGo</td>\n",
              "      <td>27/03/2019</td>\n",
              "      <td>Kolkata</td>\n",
              "      <td>Banglore</td>\n",
              "      <td>CCU → BLR</td>\n",
              "      <td>14:20</td>\n",
              "      <td>16:55</td>\n",
              "      <td>2h 35m</td>\n",
              "      <td>non-stop</td>\n",
              "      <td>No info</td>\n",
              "    </tr>\n",
              "    <tr>\n",
              "      <th>2668</th>\n",
              "      <td>Jet Airways</td>\n",
              "      <td>6/03/2019</td>\n",
              "      <td>Delhi</td>\n",
              "      <td>Cochin</td>\n",
              "      <td>DEL → BOM → COK</td>\n",
              "      <td>21:50</td>\n",
              "      <td>04:25 07 Mar</td>\n",
              "      <td>6h 35m</td>\n",
              "      <td>1 stop</td>\n",
              "      <td>No info</td>\n",
              "    </tr>\n",
              "    <tr>\n",
              "      <th>2669</th>\n",
              "      <td>Air India</td>\n",
              "      <td>6/03/2019</td>\n",
              "      <td>Delhi</td>\n",
              "      <td>Cochin</td>\n",
              "      <td>DEL → BOM → COK</td>\n",
              "      <td>04:00</td>\n",
              "      <td>19:15</td>\n",
              "      <td>15h 15m</td>\n",
              "      <td>1 stop</td>\n",
              "      <td>No info</td>\n",
              "    </tr>\n",
              "    <tr>\n",
              "      <th>2670</th>\n",
              "      <td>Multiple carriers</td>\n",
              "      <td>15/06/2019</td>\n",
              "      <td>Delhi</td>\n",
              "      <td>Cochin</td>\n",
              "      <td>DEL → BOM → COK</td>\n",
              "      <td>04:55</td>\n",
              "      <td>19:15</td>\n",
              "      <td>14h 20m</td>\n",
              "      <td>1 stop</td>\n",
              "      <td>No info</td>\n",
              "    </tr>\n",
              "  </tbody>\n",
              "</table>\n",
              "<p>2671 rows × 10 columns</p>\n",
              "</div>"
            ],
            "text/plain": [
              "                Airline Date_of_Journey    Source Destination  \\\n",
              "0           Jet Airways       6/06/2019     Delhi      Cochin   \n",
              "1                IndiGo      12/05/2019   Kolkata    Banglore   \n",
              "2           Jet Airways      21/05/2019     Delhi      Cochin   \n",
              "3     Multiple carriers      21/05/2019     Delhi      Cochin   \n",
              "4              Air Asia      24/06/2019  Banglore       Delhi   \n",
              "...                 ...             ...       ...         ...   \n",
              "2666          Air India       6/06/2019   Kolkata    Banglore   \n",
              "2667             IndiGo      27/03/2019   Kolkata    Banglore   \n",
              "2668        Jet Airways       6/03/2019     Delhi      Cochin   \n",
              "2669          Air India       6/03/2019     Delhi      Cochin   \n",
              "2670  Multiple carriers      15/06/2019     Delhi      Cochin   \n",
              "\n",
              "                Route Dep_Time  Arrival_Time Duration Total_Stops  \\\n",
              "0     DEL → BOM → COK    17:30  04:25 07 Jun  10h 55m      1 stop   \n",
              "1     CCU → MAA → BLR    06:20         10:20       4h      1 stop   \n",
              "2     DEL → BOM → COK    19:15  19:00 22 May  23h 45m      1 stop   \n",
              "3     DEL → BOM → COK    08:00         21:00      13h      1 stop   \n",
              "4           BLR → DEL    23:55  02:45 25 Jun   2h 50m    non-stop   \n",
              "...               ...      ...           ...      ...         ...   \n",
              "2666  CCU → DEL → BLR    20:30  20:25 07 Jun  23h 55m      1 stop   \n",
              "2667        CCU → BLR    14:20         16:55   2h 35m    non-stop   \n",
              "2668  DEL → BOM → COK    21:50  04:25 07 Mar   6h 35m      1 stop   \n",
              "2669  DEL → BOM → COK    04:00         19:15  15h 15m      1 stop   \n",
              "2670  DEL → BOM → COK    04:55         19:15  14h 20m      1 stop   \n",
              "\n",
              "                  Additional_Info  \n",
              "0                         No info  \n",
              "1                         No info  \n",
              "2     In-flight meal not included  \n",
              "3                         No info  \n",
              "4                         No info  \n",
              "...                           ...  \n",
              "2666                      No info  \n",
              "2667                      No info  \n",
              "2668                      No info  \n",
              "2669                      No info  \n",
              "2670                      No info  \n",
              "\n",
              "[2671 rows x 10 columns]"
            ]
          },
          "execution_count": 5,
          "metadata": {},
          "output_type": "execute_result"
        }
      ],
      "source": [
        "flight_price_test"
      ]
    },
    {
      "cell_type": "markdown",
      "id": "c4937c19",
      "metadata": {
        "id": "c4937c19"
      },
      "source": [
        "## We Merged the train and test data"
      ]
    },
    {
      "cell_type": "code",
      "execution_count": null,
      "id": "a712fbfb",
      "metadata": {
        "id": "a712fbfb"
      },
      "outputs": [],
      "source": [
        "flight_price['data']='train'\n",
        "flight_price_test['data']='test'"
      ]
    },
    {
      "cell_type": "code",
      "execution_count": null,
      "id": "865a2718",
      "metadata": {
        "id": "865a2718"
      },
      "outputs": [],
      "source": [
        "flight_price=pd.concat([flight_price,flight_price_test])"
      ]
    },
    {
      "cell_type": "code",
      "execution_count": null,
      "id": "26b7f14e",
      "metadata": {
        "id": "26b7f14e",
        "outputId": "bf034bda-f95e-4edd-c0a6-bcbc81a7ccbc"
      },
      "outputs": [
        {
          "data": {
            "text/html": [
              "<div>\n",
              "<style scoped>\n",
              "    .dataframe tbody tr th:only-of-type {\n",
              "        vertical-align: middle;\n",
              "    }\n",
              "\n",
              "    .dataframe tbody tr th {\n",
              "        vertical-align: top;\n",
              "    }\n",
              "\n",
              "    .dataframe thead th {\n",
              "        text-align: right;\n",
              "    }\n",
              "</style>\n",
              "<table border=\"1\" class=\"dataframe\">\n",
              "  <thead>\n",
              "    <tr style=\"text-align: right;\">\n",
              "      <th></th>\n",
              "      <th>Airline</th>\n",
              "      <th>Date_of_Journey</th>\n",
              "      <th>Source</th>\n",
              "      <th>Destination</th>\n",
              "      <th>Route</th>\n",
              "      <th>Dep_Time</th>\n",
              "      <th>Arrival_Time</th>\n",
              "      <th>Duration</th>\n",
              "      <th>Total_Stops</th>\n",
              "      <th>Additional_Info</th>\n",
              "      <th>Price</th>\n",
              "      <th>data</th>\n",
              "    </tr>\n",
              "  </thead>\n",
              "  <tbody>\n",
              "    <tr>\n",
              "      <th>0</th>\n",
              "      <td>IndiGo</td>\n",
              "      <td>24/03/2019</td>\n",
              "      <td>Banglore</td>\n",
              "      <td>New Delhi</td>\n",
              "      <td>BLR → DEL</td>\n",
              "      <td>22:20</td>\n",
              "      <td>01:10 22 Mar</td>\n",
              "      <td>2h 50m</td>\n",
              "      <td>non-stop</td>\n",
              "      <td>No info</td>\n",
              "      <td>3897.0</td>\n",
              "      <td>train</td>\n",
              "    </tr>\n",
              "    <tr>\n",
              "      <th>1</th>\n",
              "      <td>Air India</td>\n",
              "      <td>1/05/2019</td>\n",
              "      <td>Kolkata</td>\n",
              "      <td>Banglore</td>\n",
              "      <td>CCU → IXR → BBI → BLR</td>\n",
              "      <td>05:50</td>\n",
              "      <td>13:15</td>\n",
              "      <td>7h 25m</td>\n",
              "      <td>2 stops</td>\n",
              "      <td>No info</td>\n",
              "      <td>7662.0</td>\n",
              "      <td>train</td>\n",
              "    </tr>\n",
              "    <tr>\n",
              "      <th>2</th>\n",
              "      <td>Jet Airways</td>\n",
              "      <td>9/06/2019</td>\n",
              "      <td>Delhi</td>\n",
              "      <td>Cochin</td>\n",
              "      <td>DEL → LKO → BOM → COK</td>\n",
              "      <td>09:25</td>\n",
              "      <td>04:25 10 Jun</td>\n",
              "      <td>19h</td>\n",
              "      <td>2 stops</td>\n",
              "      <td>No info</td>\n",
              "      <td>13882.0</td>\n",
              "      <td>train</td>\n",
              "    </tr>\n",
              "    <tr>\n",
              "      <th>3</th>\n",
              "      <td>IndiGo</td>\n",
              "      <td>12/05/2019</td>\n",
              "      <td>Kolkata</td>\n",
              "      <td>Banglore</td>\n",
              "      <td>CCU → NAG → BLR</td>\n",
              "      <td>18:05</td>\n",
              "      <td>23:30</td>\n",
              "      <td>5h 25m</td>\n",
              "      <td>1 stop</td>\n",
              "      <td>No info</td>\n",
              "      <td>6218.0</td>\n",
              "      <td>train</td>\n",
              "    </tr>\n",
              "    <tr>\n",
              "      <th>4</th>\n",
              "      <td>IndiGo</td>\n",
              "      <td>01/03/2019</td>\n",
              "      <td>Banglore</td>\n",
              "      <td>New Delhi</td>\n",
              "      <td>BLR → NAG → DEL</td>\n",
              "      <td>16:50</td>\n",
              "      <td>21:35</td>\n",
              "      <td>4h 45m</td>\n",
              "      <td>1 stop</td>\n",
              "      <td>No info</td>\n",
              "      <td>13302.0</td>\n",
              "      <td>train</td>\n",
              "    </tr>\n",
              "    <tr>\n",
              "      <th>...</th>\n",
              "      <td>...</td>\n",
              "      <td>...</td>\n",
              "      <td>...</td>\n",
              "      <td>...</td>\n",
              "      <td>...</td>\n",
              "      <td>...</td>\n",
              "      <td>...</td>\n",
              "      <td>...</td>\n",
              "      <td>...</td>\n",
              "      <td>...</td>\n",
              "      <td>...</td>\n",
              "      <td>...</td>\n",
              "    </tr>\n",
              "    <tr>\n",
              "      <th>2666</th>\n",
              "      <td>Air India</td>\n",
              "      <td>6/06/2019</td>\n",
              "      <td>Kolkata</td>\n",
              "      <td>Banglore</td>\n",
              "      <td>CCU → DEL → BLR</td>\n",
              "      <td>20:30</td>\n",
              "      <td>20:25 07 Jun</td>\n",
              "      <td>23h 55m</td>\n",
              "      <td>1 stop</td>\n",
              "      <td>No info</td>\n",
              "      <td>NaN</td>\n",
              "      <td>test</td>\n",
              "    </tr>\n",
              "    <tr>\n",
              "      <th>2667</th>\n",
              "      <td>IndiGo</td>\n",
              "      <td>27/03/2019</td>\n",
              "      <td>Kolkata</td>\n",
              "      <td>Banglore</td>\n",
              "      <td>CCU → BLR</td>\n",
              "      <td>14:20</td>\n",
              "      <td>16:55</td>\n",
              "      <td>2h 35m</td>\n",
              "      <td>non-stop</td>\n",
              "      <td>No info</td>\n",
              "      <td>NaN</td>\n",
              "      <td>test</td>\n",
              "    </tr>\n",
              "    <tr>\n",
              "      <th>2668</th>\n",
              "      <td>Jet Airways</td>\n",
              "      <td>6/03/2019</td>\n",
              "      <td>Delhi</td>\n",
              "      <td>Cochin</td>\n",
              "      <td>DEL → BOM → COK</td>\n",
              "      <td>21:50</td>\n",
              "      <td>04:25 07 Mar</td>\n",
              "      <td>6h 35m</td>\n",
              "      <td>1 stop</td>\n",
              "      <td>No info</td>\n",
              "      <td>NaN</td>\n",
              "      <td>test</td>\n",
              "    </tr>\n",
              "    <tr>\n",
              "      <th>2669</th>\n",
              "      <td>Air India</td>\n",
              "      <td>6/03/2019</td>\n",
              "      <td>Delhi</td>\n",
              "      <td>Cochin</td>\n",
              "      <td>DEL → BOM → COK</td>\n",
              "      <td>04:00</td>\n",
              "      <td>19:15</td>\n",
              "      <td>15h 15m</td>\n",
              "      <td>1 stop</td>\n",
              "      <td>No info</td>\n",
              "      <td>NaN</td>\n",
              "      <td>test</td>\n",
              "    </tr>\n",
              "    <tr>\n",
              "      <th>2670</th>\n",
              "      <td>Multiple carriers</td>\n",
              "      <td>15/06/2019</td>\n",
              "      <td>Delhi</td>\n",
              "      <td>Cochin</td>\n",
              "      <td>DEL → BOM → COK</td>\n",
              "      <td>04:55</td>\n",
              "      <td>19:15</td>\n",
              "      <td>14h 20m</td>\n",
              "      <td>1 stop</td>\n",
              "      <td>No info</td>\n",
              "      <td>NaN</td>\n",
              "      <td>test</td>\n",
              "    </tr>\n",
              "  </tbody>\n",
              "</table>\n",
              "<p>13354 rows × 12 columns</p>\n",
              "</div>"
            ],
            "text/plain": [
              "                Airline Date_of_Journey    Source Destination  \\\n",
              "0                IndiGo      24/03/2019  Banglore   New Delhi   \n",
              "1             Air India       1/05/2019   Kolkata    Banglore   \n",
              "2           Jet Airways       9/06/2019     Delhi      Cochin   \n",
              "3                IndiGo      12/05/2019   Kolkata    Banglore   \n",
              "4                IndiGo      01/03/2019  Banglore   New Delhi   \n",
              "...                 ...             ...       ...         ...   \n",
              "2666          Air India       6/06/2019   Kolkata    Banglore   \n",
              "2667             IndiGo      27/03/2019   Kolkata    Banglore   \n",
              "2668        Jet Airways       6/03/2019     Delhi      Cochin   \n",
              "2669          Air India       6/03/2019     Delhi      Cochin   \n",
              "2670  Multiple carriers      15/06/2019     Delhi      Cochin   \n",
              "\n",
              "                      Route Dep_Time  Arrival_Time Duration Total_Stops  \\\n",
              "0                 BLR → DEL    22:20  01:10 22 Mar   2h 50m    non-stop   \n",
              "1     CCU → IXR → BBI → BLR    05:50         13:15   7h 25m     2 stops   \n",
              "2     DEL → LKO → BOM → COK    09:25  04:25 10 Jun      19h     2 stops   \n",
              "3           CCU → NAG → BLR    18:05         23:30   5h 25m      1 stop   \n",
              "4           BLR → NAG → DEL    16:50         21:35   4h 45m      1 stop   \n",
              "...                     ...      ...           ...      ...         ...   \n",
              "2666        CCU → DEL → BLR    20:30  20:25 07 Jun  23h 55m      1 stop   \n",
              "2667              CCU → BLR    14:20         16:55   2h 35m    non-stop   \n",
              "2668        DEL → BOM → COK    21:50  04:25 07 Mar   6h 35m      1 stop   \n",
              "2669        DEL → BOM → COK    04:00         19:15  15h 15m      1 stop   \n",
              "2670        DEL → BOM → COK    04:55         19:15  14h 20m      1 stop   \n",
              "\n",
              "     Additional_Info    Price   data  \n",
              "0            No info   3897.0  train  \n",
              "1            No info   7662.0  train  \n",
              "2            No info  13882.0  train  \n",
              "3            No info   6218.0  train  \n",
              "4            No info  13302.0  train  \n",
              "...              ...      ...    ...  \n",
              "2666         No info      NaN   test  \n",
              "2667         No info      NaN   test  \n",
              "2668         No info      NaN   test  \n",
              "2669         No info      NaN   test  \n",
              "2670         No info      NaN   test  \n",
              "\n",
              "[13354 rows x 12 columns]"
            ]
          },
          "execution_count": 8,
          "metadata": {},
          "output_type": "execute_result"
        }
      ],
      "source": [
        "flight_price"
      ]
    },
    {
      "cell_type": "markdown",
      "id": "acfa1891",
      "metadata": {
        "id": "acfa1891"
      },
      "source": [
        "# Feature Engineering"
      ]
    },
    {
      "cell_type": "code",
      "execution_count": null,
      "id": "f5531e00",
      "metadata": {
        "id": "f5531e00",
        "outputId": "30c40ed4-31d1-4f52-8187-9295ef9ffc4f"
      },
      "outputs": [
        {
          "data": {
            "text/plain": [
              "(13354, 12)"
            ]
          },
          "execution_count": 9,
          "metadata": {},
          "output_type": "execute_result"
        }
      ],
      "source": [
        "# Checking the dimentionality of the Data\n",
        "flight_price.shape"
      ]
    },
    {
      "cell_type": "code",
      "execution_count": null,
      "id": "80af5de8",
      "metadata": {
        "id": "80af5de8"
      },
      "outputs": [],
      "source": [
        "# Understanding Statistical Calculations of the Dataset on categorical_variable\n",
        "categorical_variable=['Airline','Source','Destination']"
      ]
    },
    {
      "cell_type": "code",
      "execution_count": null,
      "id": "4ca7c679",
      "metadata": {
        "id": "4ca7c679",
        "outputId": "43495f76-a779-44d3-b7db-ce07a0cebe6d"
      },
      "outputs": [
        {
          "data": {
            "text/html": [
              "<div>\n",
              "<style scoped>\n",
              "    .dataframe tbody tr th:only-of-type {\n",
              "        vertical-align: middle;\n",
              "    }\n",
              "\n",
              "    .dataframe tbody tr th {\n",
              "        vertical-align: top;\n",
              "    }\n",
              "\n",
              "    .dataframe thead th {\n",
              "        text-align: right;\n",
              "    }\n",
              "</style>\n",
              "<table border=\"1\" class=\"dataframe\">\n",
              "  <thead>\n",
              "    <tr style=\"text-align: right;\">\n",
              "      <th></th>\n",
              "      <th>count</th>\n",
              "      <th>unique</th>\n",
              "      <th>top</th>\n",
              "      <th>freq</th>\n",
              "    </tr>\n",
              "  </thead>\n",
              "  <tbody>\n",
              "    <tr>\n",
              "      <th>Airline</th>\n",
              "      <td>13354</td>\n",
              "      <td>12</td>\n",
              "      <td>Jet Airways</td>\n",
              "      <td>4746</td>\n",
              "    </tr>\n",
              "    <tr>\n",
              "      <th>Source</th>\n",
              "      <td>13354</td>\n",
              "      <td>5</td>\n",
              "      <td>Delhi</td>\n",
              "      <td>5682</td>\n",
              "    </tr>\n",
              "    <tr>\n",
              "      <th>Destination</th>\n",
              "      <td>13354</td>\n",
              "      <td>6</td>\n",
              "      <td>Cochin</td>\n",
              "      <td>5682</td>\n",
              "    </tr>\n",
              "  </tbody>\n",
              "</table>\n",
              "</div>"
            ],
            "text/plain": [
              "             count unique          top  freq\n",
              "Airline      13354     12  Jet Airways  4746\n",
              "Source       13354      5        Delhi  5682\n",
              "Destination  13354      6       Cochin  5682"
            ]
          },
          "execution_count": 11,
          "metadata": {},
          "output_type": "execute_result"
        }
      ],
      "source": [
        "flight_price[categorical_variable].describe().T"
      ]
    },
    {
      "cell_type": "code",
      "execution_count": null,
      "id": "f59452d8",
      "metadata": {
        "id": "f59452d8",
        "outputId": "710a5f1b-f418-47d5-8055-748acb2394db"
      },
      "outputs": [
        {
          "data": {
            "text/html": [
              "<div>\n",
              "<style scoped>\n",
              "    .dataframe tbody tr th:only-of-type {\n",
              "        vertical-align: middle;\n",
              "    }\n",
              "\n",
              "    .dataframe tbody tr th {\n",
              "        vertical-align: top;\n",
              "    }\n",
              "\n",
              "    .dataframe thead th {\n",
              "        text-align: right;\n",
              "    }\n",
              "</style>\n",
              "<table border=\"1\" class=\"dataframe\">\n",
              "  <thead>\n",
              "    <tr style=\"text-align: right;\">\n",
              "      <th></th>\n",
              "      <th>Price</th>\n",
              "    </tr>\n",
              "  </thead>\n",
              "  <tbody>\n",
              "    <tr>\n",
              "      <th>count</th>\n",
              "      <td>10683.000000</td>\n",
              "    </tr>\n",
              "    <tr>\n",
              "      <th>mean</th>\n",
              "      <td>9087.064121</td>\n",
              "    </tr>\n",
              "    <tr>\n",
              "      <th>std</th>\n",
              "      <td>4611.359167</td>\n",
              "    </tr>\n",
              "    <tr>\n",
              "      <th>min</th>\n",
              "      <td>1759.000000</td>\n",
              "    </tr>\n",
              "    <tr>\n",
              "      <th>25%</th>\n",
              "      <td>5277.000000</td>\n",
              "    </tr>\n",
              "    <tr>\n",
              "      <th>50%</th>\n",
              "      <td>8372.000000</td>\n",
              "    </tr>\n",
              "    <tr>\n",
              "      <th>75%</th>\n",
              "      <td>12373.000000</td>\n",
              "    </tr>\n",
              "    <tr>\n",
              "      <th>max</th>\n",
              "      <td>79512.000000</td>\n",
              "    </tr>\n",
              "  </tbody>\n",
              "</table>\n",
              "</div>"
            ],
            "text/plain": [
              "              Price\n",
              "count  10683.000000\n",
              "mean    9087.064121\n",
              "std     4611.359167\n",
              "min     1759.000000\n",
              "25%     5277.000000\n",
              "50%     8372.000000\n",
              "75%    12373.000000\n",
              "max    79512.000000"
            ]
          },
          "execution_count": 12,
          "metadata": {},
          "output_type": "execute_result"
        }
      ],
      "source": [
        "# Understanding Statistical Calculations of the Dataset on Numeric Variable\n",
        "flight_price.describe()"
      ]
    },
    {
      "cell_type": "code",
      "execution_count": null,
      "id": "45c8316c",
      "metadata": {
        "id": "45c8316c",
        "outputId": "843690c1-9666-4475-9384-1bbf73f8c9d4"
      },
      "outputs": [
        {
          "name": "stdout",
          "output_type": "stream",
          "text": [
            "<class 'pandas.core.frame.DataFrame'>\n",
            "Int64Index: 13354 entries, 0 to 2670\n",
            "Data columns (total 12 columns):\n",
            " #   Column           Non-Null Count  Dtype  \n",
            "---  ------           --------------  -----  \n",
            " 0   Airline          13354 non-null  object \n",
            " 1   Date_of_Journey  13354 non-null  object \n",
            " 2   Source           13354 non-null  object \n",
            " 3   Destination      13354 non-null  object \n",
            " 4   Route            13353 non-null  object \n",
            " 5   Dep_Time         13354 non-null  object \n",
            " 6   Arrival_Time     13354 non-null  object \n",
            " 7   Duration         13354 non-null  object \n",
            " 8   Total_Stops      13353 non-null  object \n",
            " 9   Additional_Info  13354 non-null  object \n",
            " 10  Price            10683 non-null  float64\n",
            " 11  data             13354 non-null  object \n",
            "dtypes: float64(1), object(11)\n",
            "memory usage: 1.3+ MB\n"
          ]
        }
      ],
      "source": [
        "# Checking the DataType of each Features\n",
        "flight_price.info()"
      ]
    },
    {
      "cell_type": "code",
      "execution_count": null,
      "id": "c0286166",
      "metadata": {
        "id": "c0286166",
        "outputId": "882acaec-b346-4c8e-c77b-4b9dc270d2e1"
      },
      "outputs": [
        {
          "data": {
            "text/html": [
              "<div>\n",
              "<style scoped>\n",
              "    .dataframe tbody tr th:only-of-type {\n",
              "        vertical-align: middle;\n",
              "    }\n",
              "\n",
              "    .dataframe tbody tr th {\n",
              "        vertical-align: top;\n",
              "    }\n",
              "\n",
              "    .dataframe thead th {\n",
              "        text-align: right;\n",
              "    }\n",
              "</style>\n",
              "<table border=\"1\" class=\"dataframe\">\n",
              "  <thead>\n",
              "    <tr style=\"text-align: right;\">\n",
              "      <th></th>\n",
              "      <th>Airline</th>\n",
              "      <th>Date_of_Journey</th>\n",
              "      <th>Source</th>\n",
              "      <th>Destination</th>\n",
              "      <th>Route</th>\n",
              "      <th>Dep_Time</th>\n",
              "      <th>Arrival_Time</th>\n",
              "      <th>Duration</th>\n",
              "      <th>Total_Stops</th>\n",
              "      <th>Additional_Info</th>\n",
              "      <th>Price</th>\n",
              "      <th>data</th>\n",
              "      <th>year</th>\n",
              "      <th>Month</th>\n",
              "      <th>Day</th>\n",
              "    </tr>\n",
              "  </thead>\n",
              "  <tbody>\n",
              "    <tr>\n",
              "      <th>0</th>\n",
              "      <td>IndiGo</td>\n",
              "      <td>2019-03-24</td>\n",
              "      <td>Banglore</td>\n",
              "      <td>New Delhi</td>\n",
              "      <td>BLR → DEL</td>\n",
              "      <td>22:20</td>\n",
              "      <td>01:10 22 Mar</td>\n",
              "      <td>170.0</td>\n",
              "      <td>non-stop</td>\n",
              "      <td>No info</td>\n",
              "      <td>3897.0</td>\n",
              "      <td>train</td>\n",
              "      <td>2019</td>\n",
              "      <td>3</td>\n",
              "      <td>24</td>\n",
              "    </tr>\n",
              "    <tr>\n",
              "      <th>1</th>\n",
              "      <td>Air India</td>\n",
              "      <td>2019-01-05</td>\n",
              "      <td>Kolkata</td>\n",
              "      <td>Banglore</td>\n",
              "      <td>CCU → IXR → BBI → BLR</td>\n",
              "      <td>05:50</td>\n",
              "      <td>13:15</td>\n",
              "      <td>445.0</td>\n",
              "      <td>2 stops</td>\n",
              "      <td>No info</td>\n",
              "      <td>7662.0</td>\n",
              "      <td>train</td>\n",
              "      <td>2019</td>\n",
              "      <td>1</td>\n",
              "      <td>5</td>\n",
              "    </tr>\n",
              "    <tr>\n",
              "      <th>2</th>\n",
              "      <td>Jet Airways</td>\n",
              "      <td>2019-09-06</td>\n",
              "      <td>Delhi</td>\n",
              "      <td>Cochin</td>\n",
              "      <td>DEL → LKO → BOM → COK</td>\n",
              "      <td>09:25</td>\n",
              "      <td>04:25 10 Jun</td>\n",
              "      <td>1140.0</td>\n",
              "      <td>2 stops</td>\n",
              "      <td>No info</td>\n",
              "      <td>13882.0</td>\n",
              "      <td>train</td>\n",
              "      <td>2019</td>\n",
              "      <td>9</td>\n",
              "      <td>6</td>\n",
              "    </tr>\n",
              "    <tr>\n",
              "      <th>3</th>\n",
              "      <td>IndiGo</td>\n",
              "      <td>2019-12-05</td>\n",
              "      <td>Kolkata</td>\n",
              "      <td>Banglore</td>\n",
              "      <td>CCU → NAG → BLR</td>\n",
              "      <td>18:05</td>\n",
              "      <td>23:30</td>\n",
              "      <td>325.0</td>\n",
              "      <td>1 stop</td>\n",
              "      <td>No info</td>\n",
              "      <td>6218.0</td>\n",
              "      <td>train</td>\n",
              "      <td>2019</td>\n",
              "      <td>12</td>\n",
              "      <td>5</td>\n",
              "    </tr>\n",
              "    <tr>\n",
              "      <th>4</th>\n",
              "      <td>IndiGo</td>\n",
              "      <td>2019-01-03</td>\n",
              "      <td>Banglore</td>\n",
              "      <td>New Delhi</td>\n",
              "      <td>BLR → NAG → DEL</td>\n",
              "      <td>16:50</td>\n",
              "      <td>21:35</td>\n",
              "      <td>285.0</td>\n",
              "      <td>1 stop</td>\n",
              "      <td>No info</td>\n",
              "      <td>13302.0</td>\n",
              "      <td>train</td>\n",
              "      <td>2019</td>\n",
              "      <td>1</td>\n",
              "      <td>3</td>\n",
              "    </tr>\n",
              "    <tr>\n",
              "      <th>...</th>\n",
              "      <td>...</td>\n",
              "      <td>...</td>\n",
              "      <td>...</td>\n",
              "      <td>...</td>\n",
              "      <td>...</td>\n",
              "      <td>...</td>\n",
              "      <td>...</td>\n",
              "      <td>...</td>\n",
              "      <td>...</td>\n",
              "      <td>...</td>\n",
              "      <td>...</td>\n",
              "      <td>...</td>\n",
              "      <td>...</td>\n",
              "      <td>...</td>\n",
              "      <td>...</td>\n",
              "    </tr>\n",
              "    <tr>\n",
              "      <th>13103</th>\n",
              "      <td>Air India</td>\n",
              "      <td>2019-06-06</td>\n",
              "      <td>Kolkata</td>\n",
              "      <td>Banglore</td>\n",
              "      <td>CCU → DEL → BLR</td>\n",
              "      <td>20:30</td>\n",
              "      <td>20:25 07 Jun</td>\n",
              "      <td>1435.0</td>\n",
              "      <td>1 stop</td>\n",
              "      <td>No info</td>\n",
              "      <td>NaN</td>\n",
              "      <td>test</td>\n",
              "      <td>2019</td>\n",
              "      <td>6</td>\n",
              "      <td>6</td>\n",
              "    </tr>\n",
              "    <tr>\n",
              "      <th>13104</th>\n",
              "      <td>IndiGo</td>\n",
              "      <td>2019-03-27</td>\n",
              "      <td>Kolkata</td>\n",
              "      <td>Banglore</td>\n",
              "      <td>CCU → BLR</td>\n",
              "      <td>14:20</td>\n",
              "      <td>16:55</td>\n",
              "      <td>155.0</td>\n",
              "      <td>non-stop</td>\n",
              "      <td>No info</td>\n",
              "      <td>NaN</td>\n",
              "      <td>test</td>\n",
              "      <td>2019</td>\n",
              "      <td>3</td>\n",
              "      <td>27</td>\n",
              "    </tr>\n",
              "    <tr>\n",
              "      <th>13105</th>\n",
              "      <td>Jet Airways</td>\n",
              "      <td>2019-06-03</td>\n",
              "      <td>Delhi</td>\n",
              "      <td>Cochin</td>\n",
              "      <td>DEL → BOM → COK</td>\n",
              "      <td>21:50</td>\n",
              "      <td>04:25 07 Mar</td>\n",
              "      <td>395.0</td>\n",
              "      <td>1 stop</td>\n",
              "      <td>No info</td>\n",
              "      <td>NaN</td>\n",
              "      <td>test</td>\n",
              "      <td>2019</td>\n",
              "      <td>6</td>\n",
              "      <td>3</td>\n",
              "    </tr>\n",
              "    <tr>\n",
              "      <th>13106</th>\n",
              "      <td>Air India</td>\n",
              "      <td>2019-06-03</td>\n",
              "      <td>Delhi</td>\n",
              "      <td>Cochin</td>\n",
              "      <td>DEL → BOM → COK</td>\n",
              "      <td>04:00</td>\n",
              "      <td>19:15</td>\n",
              "      <td>915.0</td>\n",
              "      <td>1 stop</td>\n",
              "      <td>No info</td>\n",
              "      <td>NaN</td>\n",
              "      <td>test</td>\n",
              "      <td>2019</td>\n",
              "      <td>6</td>\n",
              "      <td>3</td>\n",
              "    </tr>\n",
              "    <tr>\n",
              "      <th>13107</th>\n",
              "      <td>Multiple carriers</td>\n",
              "      <td>2019-06-15</td>\n",
              "      <td>Delhi</td>\n",
              "      <td>Cochin</td>\n",
              "      <td>DEL → BOM → COK</td>\n",
              "      <td>04:55</td>\n",
              "      <td>19:15</td>\n",
              "      <td>860.0</td>\n",
              "      <td>1 stop</td>\n",
              "      <td>No info</td>\n",
              "      <td>NaN</td>\n",
              "      <td>test</td>\n",
              "      <td>2019</td>\n",
              "      <td>6</td>\n",
              "      <td>15</td>\n",
              "    </tr>\n",
              "  </tbody>\n",
              "</table>\n",
              "<p>13107 rows × 15 columns</p>\n",
              "</div>"
            ],
            "text/plain": [
              "                 Airline Date_of_Journey    Source Destination  \\\n",
              "0                 IndiGo      2019-03-24  Banglore   New Delhi   \n",
              "1              Air India      2019-01-05   Kolkata    Banglore   \n",
              "2            Jet Airways      2019-09-06     Delhi      Cochin   \n",
              "3                 IndiGo      2019-12-05   Kolkata    Banglore   \n",
              "4                 IndiGo      2019-01-03  Banglore   New Delhi   \n",
              "...                  ...             ...       ...         ...   \n",
              "13103          Air India      2019-06-06   Kolkata    Banglore   \n",
              "13104             IndiGo      2019-03-27   Kolkata    Banglore   \n",
              "13105        Jet Airways      2019-06-03     Delhi      Cochin   \n",
              "13106          Air India      2019-06-03     Delhi      Cochin   \n",
              "13107  Multiple carriers      2019-06-15     Delhi      Cochin   \n",
              "\n",
              "                       Route Dep_Time  Arrival_Time  Duration Total_Stops  \\\n",
              "0                  BLR → DEL    22:20  01:10 22 Mar     170.0    non-stop   \n",
              "1      CCU → IXR → BBI → BLR    05:50         13:15     445.0     2 stops   \n",
              "2      DEL → LKO → BOM → COK    09:25  04:25 10 Jun    1140.0     2 stops   \n",
              "3            CCU → NAG → BLR    18:05         23:30     325.0      1 stop   \n",
              "4            BLR → NAG → DEL    16:50         21:35     285.0      1 stop   \n",
              "...                      ...      ...           ...       ...         ...   \n",
              "13103        CCU → DEL → BLR    20:30  20:25 07 Jun    1435.0      1 stop   \n",
              "13104              CCU → BLR    14:20         16:55     155.0    non-stop   \n",
              "13105        DEL → BOM → COK    21:50  04:25 07 Mar     395.0      1 stop   \n",
              "13106        DEL → BOM → COK    04:00         19:15     915.0      1 stop   \n",
              "13107        DEL → BOM → COK    04:55         19:15     860.0      1 stop   \n",
              "\n",
              "      Additional_Info    Price   data  year  Month  Day  \n",
              "0             No info   3897.0  train  2019      3   24  \n",
              "1             No info   7662.0  train  2019      1    5  \n",
              "2             No info  13882.0  train  2019      9    6  \n",
              "3             No info   6218.0  train  2019     12    5  \n",
              "4             No info  13302.0  train  2019      1    3  \n",
              "...               ...      ...    ...   ...    ...  ...  \n",
              "13103         No info      NaN   test  2019      6    6  \n",
              "13104         No info      NaN   test  2019      3   27  \n",
              "13105         No info      NaN   test  2019      6    3  \n",
              "13106         No info      NaN   test  2019      6    3  \n",
              "13107         No info      NaN   test  2019      6   15  \n",
              "\n",
              "[13107 rows x 15 columns]"
            ]
          },
          "execution_count": 88,
          "metadata": {},
          "output_type": "execute_result"
        }
      ],
      "source": [
        "flight_price"
      ]
    },
    {
      "cell_type": "code",
      "execution_count": null,
      "id": "458b0559",
      "metadata": {
        "id": "458b0559",
        "outputId": "b0c130c3-b216-41e0-d998-96010c23d8c8"
      },
      "outputs": [
        {
          "data": {
            "text/plain": [
              "246"
            ]
          },
          "execution_count": 14,
          "metadata": {},
          "output_type": "execute_result"
        }
      ],
      "source": [
        "# check Duplicates\n",
        "flight_price.duplicated().sum()"
      ]
    },
    {
      "cell_type": "code",
      "execution_count": null,
      "id": "41345dfa",
      "metadata": {
        "id": "41345dfa"
      },
      "outputs": [],
      "source": [
        "# Removing Duplicates\n",
        "flight_price=flight_price.drop_duplicates(ignore_index=True)"
      ]
    },
    {
      "cell_type": "code",
      "execution_count": null,
      "id": "457ce8ee",
      "metadata": {
        "id": "457ce8ee",
        "outputId": "55448f39-8b1b-4ef7-f445-d261e2fd1e75"
      },
      "outputs": [
        {
          "data": {
            "text/plain": [
              "0"
            ]
          },
          "execution_count": 16,
          "metadata": {},
          "output_type": "execute_result"
        }
      ],
      "source": [
        "flight_price.duplicated().sum()"
      ]
    },
    {
      "cell_type": "code",
      "execution_count": null,
      "id": "92b8ba5d",
      "metadata": {
        "id": "92b8ba5d"
      },
      "outputs": [],
      "source": []
    },
    {
      "cell_type": "code",
      "execution_count": null,
      "id": "7d21631f",
      "metadata": {
        "id": "7d21631f",
        "outputId": "aaa5bc1f-a0da-4ace-899b-8fc60990bcb8"
      },
      "outputs": [
        {
          "data": {
            "text/plain": [
              "Airline               0\n",
              "Date_of_Journey       0\n",
              "Source                0\n",
              "Destination           0\n",
              "Route                 1\n",
              "Dep_Time              0\n",
              "Arrival_Time          0\n",
              "Duration              0\n",
              "Total_Stops           1\n",
              "Additional_Info       0\n",
              "Price              2645\n",
              "data                  0\n",
              "dtype: int64"
            ]
          },
          "execution_count": 17,
          "metadata": {},
          "output_type": "execute_result"
        }
      ],
      "source": [
        "# Missing Value\n",
        "flight_price.isnull().sum()"
      ]
    },
    {
      "cell_type": "code",
      "execution_count": null,
      "id": "ef3c4da8",
      "metadata": {
        "id": "ef3c4da8"
      },
      "outputs": [],
      "source": [
        "import missingno as msno"
      ]
    },
    {
      "cell_type": "code",
      "execution_count": null,
      "id": "6daea1ef",
      "metadata": {
        "id": "6daea1ef",
        "outputId": "0286c8f1-d7c3-4deb-f933-7bb061df929c"
      },
      "outputs": [
        {
          "data": {
            "text/plain": [
              "<Axes: >"
            ]
          },
          "execution_count": 19,
          "metadata": {},
          "output_type": "execute_result"
        },
        {
          "data": {
            "image/png": "[encoded data removed]",
            "text/plain": [
              "<Figure size 2500x1000 with 2 Axes>"
            ]
          },
          "metadata": {},
          "output_type": "display_data"
        }
      ],
      "source": [
        "missing=msno.matrix(flight_price)\n",
        "missing"
      ]
    },
    {
      "cell_type": "code",
      "execution_count": null,
      "id": "f71855e9",
      "metadata": {
        "id": "f71855e9"
      },
      "outputs": [],
      "source": [
        "# We will Drop Missing Value as it is only 1\n",
        "flight_price=flight_price.dropna(subset=['Route'],axis=0)"
      ]
    },
    {
      "cell_type": "code",
      "execution_count": null,
      "id": "c502b853",
      "metadata": {
        "id": "c502b853",
        "outputId": "aa739212-5c68-4424-e4ba-9b33a59fb13d"
      },
      "outputs": [
        {
          "data": {
            "text/plain": [
              "Airline               0\n",
              "Date_of_Journey       0\n",
              "Source                0\n",
              "Destination           0\n",
              "Route                 0\n",
              "Dep_Time              0\n",
              "Arrival_Time          0\n",
              "Duration              0\n",
              "Total_Stops           0\n",
              "Additional_Info       0\n",
              "Price              2645\n",
              "data                  0\n",
              "dtype: int64"
            ]
          },
          "execution_count": 21,
          "metadata": {},
          "output_type": "execute_result"
        }
      ],
      "source": [
        "flight_price.isnull().sum()"
      ]
    },
    {
      "cell_type": "code",
      "execution_count": null,
      "id": "3c7ba09d",
      "metadata": {
        "id": "3c7ba09d"
      },
      "outputs": [],
      "source": [
        "#  Extracting Date, Month, Year from Date of Journey column\n",
        "import datetime as dt"
      ]
    },
    {
      "cell_type": "code",
      "execution_count": null,
      "id": "760c7b72",
      "metadata": {
        "id": "760c7b72"
      },
      "outputs": [],
      "source": [
        "# change the datatype of the column 'Date_of_Journey'\n",
        "flight_price['Date_of_Journey']=pd.to_datetime(flight_price['Date_of_Journey'])"
      ]
    },
    {
      "cell_type": "markdown",
      "id": "93eba0e7",
      "metadata": {
        "id": "93eba0e7"
      },
      "source": [
        "# Extract Year\n"
      ]
    },
    {
      "cell_type": "code",
      "execution_count": null,
      "id": "ced5ee1d",
      "metadata": {
        "id": "ced5ee1d"
      },
      "outputs": [],
      "source": [
        "flight_price['year']=flight_price['Date_of_Journey'].dt.year\n"
      ]
    },
    {
      "cell_type": "code",
      "execution_count": null,
      "id": "885c8a0e",
      "metadata": {
        "id": "885c8a0e",
        "outputId": "6380442c-7d85-47a8-de8c-b5eb0555ecd5"
      },
      "outputs": [
        {
          "data": {
            "text/html": [
              "<div>\n",
              "<style scoped>\n",
              "    .dataframe tbody tr th:only-of-type {\n",
              "        vertical-align: middle;\n",
              "    }\n",
              "\n",
              "    .dataframe tbody tr th {\n",
              "        vertical-align: top;\n",
              "    }\n",
              "\n",
              "    .dataframe thead th {\n",
              "        text-align: right;\n",
              "    }\n",
              "</style>\n",
              "<table border=\"1\" class=\"dataframe\">\n",
              "  <thead>\n",
              "    <tr style=\"text-align: right;\">\n",
              "      <th></th>\n",
              "      <th>Airline</th>\n",
              "      <th>Date_of_Journey</th>\n",
              "      <th>Source</th>\n",
              "      <th>Destination</th>\n",
              "      <th>Route</th>\n",
              "      <th>Dep_Time</th>\n",
              "      <th>Arrival_Time</th>\n",
              "      <th>Duration</th>\n",
              "      <th>Total_Stops</th>\n",
              "      <th>Additional_Info</th>\n",
              "      <th>Price</th>\n",
              "      <th>data</th>\n",
              "      <th>year</th>\n",
              "    </tr>\n",
              "  </thead>\n",
              "  <tbody>\n",
              "    <tr>\n",
              "      <th>0</th>\n",
              "      <td>IndiGo</td>\n",
              "      <td>2019-03-24</td>\n",
              "      <td>Banglore</td>\n",
              "      <td>New Delhi</td>\n",
              "      <td>BLR → DEL</td>\n",
              "      <td>22:20</td>\n",
              "      <td>01:10 22 Mar</td>\n",
              "      <td>2h 50m</td>\n",
              "      <td>non-stop</td>\n",
              "      <td>No info</td>\n",
              "      <td>3897.0</td>\n",
              "      <td>train</td>\n",
              "      <td>2019</td>\n",
              "    </tr>\n",
              "    <tr>\n",
              "      <th>1</th>\n",
              "      <td>Air India</td>\n",
              "      <td>2019-01-05</td>\n",
              "      <td>Kolkata</td>\n",
              "      <td>Banglore</td>\n",
              "      <td>CCU → IXR → BBI → BLR</td>\n",
              "      <td>05:50</td>\n",
              "      <td>13:15</td>\n",
              "      <td>7h 25m</td>\n",
              "      <td>2 stops</td>\n",
              "      <td>No info</td>\n",
              "      <td>7662.0</td>\n",
              "      <td>train</td>\n",
              "      <td>2019</td>\n",
              "    </tr>\n",
              "    <tr>\n",
              "      <th>2</th>\n",
              "      <td>Jet Airways</td>\n",
              "      <td>2019-09-06</td>\n",
              "      <td>Delhi</td>\n",
              "      <td>Cochin</td>\n",
              "      <td>DEL → LKO → BOM → COK</td>\n",
              "      <td>09:25</td>\n",
              "      <td>04:25 10 Jun</td>\n",
              "      <td>19h</td>\n",
              "      <td>2 stops</td>\n",
              "      <td>No info</td>\n",
              "      <td>13882.0</td>\n",
              "      <td>train</td>\n",
              "      <td>2019</td>\n",
              "    </tr>\n",
              "    <tr>\n",
              "      <th>3</th>\n",
              "      <td>IndiGo</td>\n",
              "      <td>2019-12-05</td>\n",
              "      <td>Kolkata</td>\n",
              "      <td>Banglore</td>\n",
              "      <td>CCU → NAG → BLR</td>\n",
              "      <td>18:05</td>\n",
              "      <td>23:30</td>\n",
              "      <td>5h 25m</td>\n",
              "      <td>1 stop</td>\n",
              "      <td>No info</td>\n",
              "      <td>6218.0</td>\n",
              "      <td>train</td>\n",
              "      <td>2019</td>\n",
              "    </tr>\n",
              "    <tr>\n",
              "      <th>4</th>\n",
              "      <td>IndiGo</td>\n",
              "      <td>2019-01-03</td>\n",
              "      <td>Banglore</td>\n",
              "      <td>New Delhi</td>\n",
              "      <td>BLR → NAG → DEL</td>\n",
              "      <td>16:50</td>\n",
              "      <td>21:35</td>\n",
              "      <td>4h 45m</td>\n",
              "      <td>1 stop</td>\n",
              "      <td>No info</td>\n",
              "      <td>13302.0</td>\n",
              "      <td>train</td>\n",
              "      <td>2019</td>\n",
              "    </tr>\n",
              "    <tr>\n",
              "      <th>...</th>\n",
              "      <td>...</td>\n",
              "      <td>...</td>\n",
              "      <td>...</td>\n",
              "      <td>...</td>\n",
              "      <td>...</td>\n",
              "      <td>...</td>\n",
              "      <td>...</td>\n",
              "      <td>...</td>\n",
              "      <td>...</td>\n",
              "      <td>...</td>\n",
              "      <td>...</td>\n",
              "      <td>...</td>\n",
              "      <td>...</td>\n",
              "    </tr>\n",
              "    <tr>\n",
              "      <th>13103</th>\n",
              "      <td>Air India</td>\n",
              "      <td>2019-06-06</td>\n",
              "      <td>Kolkata</td>\n",
              "      <td>Banglore</td>\n",
              "      <td>CCU → DEL → BLR</td>\n",
              "      <td>20:30</td>\n",
              "      <td>20:25 07 Jun</td>\n",
              "      <td>23h 55m</td>\n",
              "      <td>1 stop</td>\n",
              "      <td>No info</td>\n",
              "      <td>NaN</td>\n",
              "      <td>test</td>\n",
              "      <td>2019</td>\n",
              "    </tr>\n",
              "    <tr>\n",
              "      <th>13104</th>\n",
              "      <td>IndiGo</td>\n",
              "      <td>2019-03-27</td>\n",
              "      <td>Kolkata</td>\n",
              "      <td>Banglore</td>\n",
              "      <td>CCU → BLR</td>\n",
              "      <td>14:20</td>\n",
              "      <td>16:55</td>\n",
              "      <td>2h 35m</td>\n",
              "      <td>non-stop</td>\n",
              "      <td>No info</td>\n",
              "      <td>NaN</td>\n",
              "      <td>test</td>\n",
              "      <td>2019</td>\n",
              "    </tr>\n",
              "    <tr>\n",
              "      <th>13105</th>\n",
              "      <td>Jet Airways</td>\n",
              "      <td>2019-06-03</td>\n",
              "      <td>Delhi</td>\n",
              "      <td>Cochin</td>\n",
              "      <td>DEL → BOM → COK</td>\n",
              "      <td>21:50</td>\n",
              "      <td>04:25 07 Mar</td>\n",
              "      <td>6h 35m</td>\n",
              "      <td>1 stop</td>\n",
              "      <td>No info</td>\n",
              "      <td>NaN</td>\n",
              "      <td>test</td>\n",
              "      <td>2019</td>\n",
              "    </tr>\n",
              "    <tr>\n",
              "      <th>13106</th>\n",
              "      <td>Air India</td>\n",
              "      <td>2019-06-03</td>\n",
              "      <td>Delhi</td>\n",
              "      <td>Cochin</td>\n",
              "      <td>DEL → BOM → COK</td>\n",
              "      <td>04:00</td>\n",
              "      <td>19:15</td>\n",
              "      <td>15h 15m</td>\n",
              "      <td>1 stop</td>\n",
              "      <td>No info</td>\n",
              "      <td>NaN</td>\n",
              "      <td>test</td>\n",
              "      <td>2019</td>\n",
              "    </tr>\n",
              "    <tr>\n",
              "      <th>13107</th>\n",
              "      <td>Multiple carriers</td>\n",
              "      <td>2019-06-15</td>\n",
              "      <td>Delhi</td>\n",
              "      <td>Cochin</td>\n",
              "      <td>DEL → BOM → COK</td>\n",
              "      <td>04:55</td>\n",
              "      <td>19:15</td>\n",
              "      <td>14h 20m</td>\n",
              "      <td>1 stop</td>\n",
              "      <td>No info</td>\n",
              "      <td>NaN</td>\n",
              "      <td>test</td>\n",
              "      <td>2019</td>\n",
              "    </tr>\n",
              "  </tbody>\n",
              "</table>\n",
              "<p>13107 rows × 13 columns</p>\n",
              "</div>"
            ],
            "text/plain": [
              "                 Airline Date_of_Journey    Source Destination  \\\n",
              "0                 IndiGo      2019-03-24  Banglore   New Delhi   \n",
              "1              Air India      2019-01-05   Kolkata    Banglore   \n",
              "2            Jet Airways      2019-09-06     Delhi      Cochin   \n",
              "3                 IndiGo      2019-12-05   Kolkata    Banglore   \n",
              "4                 IndiGo      2019-01-03  Banglore   New Delhi   \n",
              "...                  ...             ...       ...         ...   \n",
              "13103          Air India      2019-06-06   Kolkata    Banglore   \n",
              "13104             IndiGo      2019-03-27   Kolkata    Banglore   \n",
              "13105        Jet Airways      2019-06-03     Delhi      Cochin   \n",
              "13106          Air India      2019-06-03     Delhi      Cochin   \n",
              "13107  Multiple carriers      2019-06-15     Delhi      Cochin   \n",
              "\n",
              "                       Route Dep_Time  Arrival_Time Duration Total_Stops  \\\n",
              "0                  BLR → DEL    22:20  01:10 22 Mar   2h 50m    non-stop   \n",
              "1      CCU → IXR → BBI → BLR    05:50         13:15   7h 25m     2 stops   \n",
              "2      DEL → LKO → BOM → COK    09:25  04:25 10 Jun      19h     2 stops   \n",
              "3            CCU → NAG → BLR    18:05         23:30   5h 25m      1 stop   \n",
              "4            BLR → NAG → DEL    16:50         21:35   4h 45m      1 stop   \n",
              "...                      ...      ...           ...      ...         ...   \n",
              "13103        CCU → DEL → BLR    20:30  20:25 07 Jun  23h 55m      1 stop   \n",
              "13104              CCU → BLR    14:20         16:55   2h 35m    non-stop   \n",
              "13105        DEL → BOM → COK    21:50  04:25 07 Mar   6h 35m      1 stop   \n",
              "13106        DEL → BOM → COK    04:00         19:15  15h 15m      1 stop   \n",
              "13107        DEL → BOM → COK    04:55         19:15  14h 20m      1 stop   \n",
              "\n",
              "      Additional_Info    Price   data  year  \n",
              "0             No info   3897.0  train  2019  \n",
              "1             No info   7662.0  train  2019  \n",
              "2             No info  13882.0  train  2019  \n",
              "3             No info   6218.0  train  2019  \n",
              "4             No info  13302.0  train  2019  \n",
              "...               ...      ...    ...   ...  \n",
              "13103         No info      NaN   test  2019  \n",
              "13104         No info      NaN   test  2019  \n",
              "13105         No info      NaN   test  2019  \n",
              "13106         No info      NaN   test  2019  \n",
              "13107         No info      NaN   test  2019  \n",
              "\n",
              "[13107 rows x 13 columns]"
            ]
          },
          "execution_count": 25,
          "metadata": {},
          "output_type": "execute_result"
        }
      ],
      "source": [
        "flight_price"
      ]
    },
    {
      "cell_type": "markdown",
      "id": "4f10aab0",
      "metadata": {
        "id": "4f10aab0"
      },
      "source": [
        "# Extract Month"
      ]
    },
    {
      "cell_type": "code",
      "execution_count": null,
      "id": "be5186b4",
      "metadata": {
        "id": "be5186b4"
      },
      "outputs": [],
      "source": [
        "flight_price['Month']=flight_price['Date_of_Journey'].dt.month\n",
        "# (If we want the name of the month we can use month_name())"
      ]
    },
    {
      "cell_type": "code",
      "execution_count": null,
      "id": "9b3540bc",
      "metadata": {
        "id": "9b3540bc",
        "outputId": "9aa9bf5f-9759-4a76-a12d-bfde9d0e9aec"
      },
      "outputs": [
        {
          "data": {
            "text/html": [
              "<div>\n",
              "<style scoped>\n",
              "    .dataframe tbody tr th:only-of-type {\n",
              "        vertical-align: middle;\n",
              "    }\n",
              "\n",
              "    .dataframe tbody tr th {\n",
              "        vertical-align: top;\n",
              "    }\n",
              "\n",
              "    .dataframe thead th {\n",
              "        text-align: right;\n",
              "    }\n",
              "</style>\n",
              "<table border=\"1\" class=\"dataframe\">\n",
              "  <thead>\n",
              "    <tr style=\"text-align: right;\">\n",
              "      <th></th>\n",
              "      <th>Airline</th>\n",
              "      <th>Date_of_Journey</th>\n",
              "      <th>Source</th>\n",
              "      <th>Destination</th>\n",
              "      <th>Route</th>\n",
              "      <th>Dep_Time</th>\n",
              "      <th>Arrival_Time</th>\n",
              "      <th>Duration</th>\n",
              "      <th>Total_Stops</th>\n",
              "      <th>Additional_Info</th>\n",
              "      <th>Price</th>\n",
              "      <th>data</th>\n",
              "      <th>year</th>\n",
              "      <th>Month</th>\n",
              "    </tr>\n",
              "  </thead>\n",
              "  <tbody>\n",
              "    <tr>\n",
              "      <th>0</th>\n",
              "      <td>IndiGo</td>\n",
              "      <td>2019-03-24</td>\n",
              "      <td>Banglore</td>\n",
              "      <td>New Delhi</td>\n",
              "      <td>BLR → DEL</td>\n",
              "      <td>22:20</td>\n",
              "      <td>01:10 22 Mar</td>\n",
              "      <td>2h 50m</td>\n",
              "      <td>non-stop</td>\n",
              "      <td>No info</td>\n",
              "      <td>3897.0</td>\n",
              "      <td>train</td>\n",
              "      <td>2019</td>\n",
              "      <td>3</td>\n",
              "    </tr>\n",
              "    <tr>\n",
              "      <th>1</th>\n",
              "      <td>Air India</td>\n",
              "      <td>2019-01-05</td>\n",
              "      <td>Kolkata</td>\n",
              "      <td>Banglore</td>\n",
              "      <td>CCU → IXR → BBI → BLR</td>\n",
              "      <td>05:50</td>\n",
              "      <td>13:15</td>\n",
              "      <td>7h 25m</td>\n",
              "      <td>2 stops</td>\n",
              "      <td>No info</td>\n",
              "      <td>7662.0</td>\n",
              "      <td>train</td>\n",
              "      <td>2019</td>\n",
              "      <td>1</td>\n",
              "    </tr>\n",
              "    <tr>\n",
              "      <th>2</th>\n",
              "      <td>Jet Airways</td>\n",
              "      <td>2019-09-06</td>\n",
              "      <td>Delhi</td>\n",
              "      <td>Cochin</td>\n",
              "      <td>DEL → LKO → BOM → COK</td>\n",
              "      <td>09:25</td>\n",
              "      <td>04:25 10 Jun</td>\n",
              "      <td>19h</td>\n",
              "      <td>2 stops</td>\n",
              "      <td>No info</td>\n",
              "      <td>13882.0</td>\n",
              "      <td>train</td>\n",
              "      <td>2019</td>\n",
              "      <td>9</td>\n",
              "    </tr>\n",
              "    <tr>\n",
              "      <th>3</th>\n",
              "      <td>IndiGo</td>\n",
              "      <td>2019-12-05</td>\n",
              "      <td>Kolkata</td>\n",
              "      <td>Banglore</td>\n",
              "      <td>CCU → NAG → BLR</td>\n",
              "      <td>18:05</td>\n",
              "      <td>23:30</td>\n",
              "      <td>5h 25m</td>\n",
              "      <td>1 stop</td>\n",
              "      <td>No info</td>\n",
              "      <td>6218.0</td>\n",
              "      <td>train</td>\n",
              "      <td>2019</td>\n",
              "      <td>12</td>\n",
              "    </tr>\n",
              "    <tr>\n",
              "      <th>4</th>\n",
              "      <td>IndiGo</td>\n",
              "      <td>2019-01-03</td>\n",
              "      <td>Banglore</td>\n",
              "      <td>New Delhi</td>\n",
              "      <td>BLR → NAG → DEL</td>\n",
              "      <td>16:50</td>\n",
              "      <td>21:35</td>\n",
              "      <td>4h 45m</td>\n",
              "      <td>1 stop</td>\n",
              "      <td>No info</td>\n",
              "      <td>13302.0</td>\n",
              "      <td>train</td>\n",
              "      <td>2019</td>\n",
              "      <td>1</td>\n",
              "    </tr>\n",
              "    <tr>\n",
              "      <th>...</th>\n",
              "      <td>...</td>\n",
              "      <td>...</td>\n",
              "      <td>...</td>\n",
              "      <td>...</td>\n",
              "      <td>...</td>\n",
              "      <td>...</td>\n",
              "      <td>...</td>\n",
              "      <td>...</td>\n",
              "      <td>...</td>\n",
              "      <td>...</td>\n",
              "      <td>...</td>\n",
              "      <td>...</td>\n",
              "      <td>...</td>\n",
              "      <td>...</td>\n",
              "    </tr>\n",
              "    <tr>\n",
              "      <th>13103</th>\n",
              "      <td>Air India</td>\n",
              "      <td>2019-06-06</td>\n",
              "      <td>Kolkata</td>\n",
              "      <td>Banglore</td>\n",
              "      <td>CCU → DEL → BLR</td>\n",
              "      <td>20:30</td>\n",
              "      <td>20:25 07 Jun</td>\n",
              "      <td>23h 55m</td>\n",
              "      <td>1 stop</td>\n",
              "      <td>No info</td>\n",
              "      <td>NaN</td>\n",
              "      <td>test</td>\n",
              "      <td>2019</td>\n",
              "      <td>6</td>\n",
              "    </tr>\n",
              "    <tr>\n",
              "      <th>13104</th>\n",
              "      <td>IndiGo</td>\n",
              "      <td>2019-03-27</td>\n",
              "      <td>Kolkata</td>\n",
              "      <td>Banglore</td>\n",
              "      <td>CCU → BLR</td>\n",
              "      <td>14:20</td>\n",
              "      <td>16:55</td>\n",
              "      <td>2h 35m</td>\n",
              "      <td>non-stop</td>\n",
              "      <td>No info</td>\n",
              "      <td>NaN</td>\n",
              "      <td>test</td>\n",
              "      <td>2019</td>\n",
              "      <td>3</td>\n",
              "    </tr>\n",
              "    <tr>\n",
              "      <th>13105</th>\n",
              "      <td>Jet Airways</td>\n",
              "      <td>2019-06-03</td>\n",
              "      <td>Delhi</td>\n",
              "      <td>Cochin</td>\n",
              "      <td>DEL → BOM → COK</td>\n",
              "      <td>21:50</td>\n",
              "      <td>04:25 07 Mar</td>\n",
              "      <td>6h 35m</td>\n",
              "      <td>1 stop</td>\n",
              "      <td>No info</td>\n",
              "      <td>NaN</td>\n",
              "      <td>test</td>\n",
              "      <td>2019</td>\n",
              "      <td>6</td>\n",
              "    </tr>\n",
              "    <tr>\n",
              "      <th>13106</th>\n",
              "      <td>Air India</td>\n",
              "      <td>2019-06-03</td>\n",
              "      <td>Delhi</td>\n",
              "      <td>Cochin</td>\n",
              "      <td>DEL → BOM → COK</td>\n",
              "      <td>04:00</td>\n",
              "      <td>19:15</td>\n",
              "      <td>15h 15m</td>\n",
              "      <td>1 stop</td>\n",
              "      <td>No info</td>\n",
              "      <td>NaN</td>\n",
              "      <td>test</td>\n",
              "      <td>2019</td>\n",
              "      <td>6</td>\n",
              "    </tr>\n",
              "    <tr>\n",
              "      <th>13107</th>\n",
              "      <td>Multiple carriers</td>\n",
              "      <td>2019-06-15</td>\n",
              "      <td>Delhi</td>\n",
              "      <td>Cochin</td>\n",
              "      <td>DEL → BOM → COK</td>\n",
              "      <td>04:55</td>\n",
              "      <td>19:15</td>\n",
              "      <td>14h 20m</td>\n",
              "      <td>1 stop</td>\n",
              "      <td>No info</td>\n",
              "      <td>NaN</td>\n",
              "      <td>test</td>\n",
              "      <td>2019</td>\n",
              "      <td>6</td>\n",
              "    </tr>\n",
              "  </tbody>\n",
              "</table>\n",
              "<p>13107 rows × 14 columns</p>\n",
              "</div>"
            ],
            "text/plain": [
              "                 Airline Date_of_Journey    Source Destination  \\\n",
              "0                 IndiGo      2019-03-24  Banglore   New Delhi   \n",
              "1              Air India      2019-01-05   Kolkata    Banglore   \n",
              "2            Jet Airways      2019-09-06     Delhi      Cochin   \n",
              "3                 IndiGo      2019-12-05   Kolkata    Banglore   \n",
              "4                 IndiGo      2019-01-03  Banglore   New Delhi   \n",
              "...                  ...             ...       ...         ...   \n",
              "13103          Air India      2019-06-06   Kolkata    Banglore   \n",
              "13104             IndiGo      2019-03-27   Kolkata    Banglore   \n",
              "13105        Jet Airways      2019-06-03     Delhi      Cochin   \n",
              "13106          Air India      2019-06-03     Delhi      Cochin   \n",
              "13107  Multiple carriers      2019-06-15     Delhi      Cochin   \n",
              "\n",
              "                       Route Dep_Time  Arrival_Time Duration Total_Stops  \\\n",
              "0                  BLR → DEL    22:20  01:10 22 Mar   2h 50m    non-stop   \n",
              "1      CCU → IXR → BBI → BLR    05:50         13:15   7h 25m     2 stops   \n",
              "2      DEL → LKO → BOM → COK    09:25  04:25 10 Jun      19h     2 stops   \n",
              "3            CCU → NAG → BLR    18:05         23:30   5h 25m      1 stop   \n",
              "4            BLR → NAG → DEL    16:50         21:35   4h 45m      1 stop   \n",
              "...                      ...      ...           ...      ...         ...   \n",
              "13103        CCU → DEL → BLR    20:30  20:25 07 Jun  23h 55m      1 stop   \n",
              "13104              CCU → BLR    14:20         16:55   2h 35m    non-stop   \n",
              "13105        DEL → BOM → COK    21:50  04:25 07 Mar   6h 35m      1 stop   \n",
              "13106        DEL → BOM → COK    04:00         19:15  15h 15m      1 stop   \n",
              "13107        DEL → BOM → COK    04:55         19:15  14h 20m      1 stop   \n",
              "\n",
              "      Additional_Info    Price   data  year  Month  \n",
              "0             No info   3897.0  train  2019      3  \n",
              "1             No info   7662.0  train  2019      1  \n",
              "2             No info  13882.0  train  2019      9  \n",
              "3             No info   6218.0  train  2019     12  \n",
              "4             No info  13302.0  train  2019      1  \n",
              "...               ...      ...    ...   ...    ...  \n",
              "13103         No info      NaN   test  2019      6  \n",
              "13104         No info      NaN   test  2019      3  \n",
              "13105         No info      NaN   test  2019      6  \n",
              "13106         No info      NaN   test  2019      6  \n",
              "13107         No info      NaN   test  2019      6  \n",
              "\n",
              "[13107 rows x 14 columns]"
            ]
          },
          "execution_count": 27,
          "metadata": {},
          "output_type": "execute_result"
        }
      ],
      "source": [
        "flight_price"
      ]
    },
    {
      "cell_type": "code",
      "execution_count": null,
      "id": "f1e4fe1c",
      "metadata": {
        "id": "f1e4fe1c"
      },
      "outputs": [],
      "source": [
        "# Extract Day\n",
        "flight_price['Day']=flight_price['Date_of_Journey'].dt.day\n",
        "#(if we want name of the day we can go with day_name())"
      ]
    },
    {
      "cell_type": "code",
      "execution_count": null,
      "id": "a742484f",
      "metadata": {
        "id": "a742484f",
        "outputId": "b61e6493-e958-47e6-92e9-93bae2f9fe6f"
      },
      "outputs": [
        {
          "data": {
            "text/html": [
              "<div>\n",
              "<style scoped>\n",
              "    .dataframe tbody tr th:only-of-type {\n",
              "        vertical-align: middle;\n",
              "    }\n",
              "\n",
              "    .dataframe tbody tr th {\n",
              "        vertical-align: top;\n",
              "    }\n",
              "\n",
              "    .dataframe thead th {\n",
              "        text-align: right;\n",
              "    }\n",
              "</style>\n",
              "<table border=\"1\" class=\"dataframe\">\n",
              "  <thead>\n",
              "    <tr style=\"text-align: right;\">\n",
              "      <th></th>\n",
              "      <th>Airline</th>\n",
              "      <th>Date_of_Journey</th>\n",
              "      <th>Source</th>\n",
              "      <th>Destination</th>\n",
              "      <th>Route</th>\n",
              "      <th>Dep_Time</th>\n",
              "      <th>Arrival_Time</th>\n",
              "      <th>Duration</th>\n",
              "      <th>Total_Stops</th>\n",
              "      <th>Additional_Info</th>\n",
              "      <th>Price</th>\n",
              "      <th>data</th>\n",
              "      <th>year</th>\n",
              "      <th>Month</th>\n",
              "      <th>Day</th>\n",
              "    </tr>\n",
              "  </thead>\n",
              "  <tbody>\n",
              "    <tr>\n",
              "      <th>0</th>\n",
              "      <td>IndiGo</td>\n",
              "      <td>2019-03-24</td>\n",
              "      <td>Banglore</td>\n",
              "      <td>New Delhi</td>\n",
              "      <td>BLR → DEL</td>\n",
              "      <td>22:20</td>\n",
              "      <td>01:10 22 Mar</td>\n",
              "      <td>2h 50m</td>\n",
              "      <td>non-stop</td>\n",
              "      <td>No info</td>\n",
              "      <td>3897.0</td>\n",
              "      <td>train</td>\n",
              "      <td>2019</td>\n",
              "      <td>3</td>\n",
              "      <td>24</td>\n",
              "    </tr>\n",
              "    <tr>\n",
              "      <th>1</th>\n",
              "      <td>Air India</td>\n",
              "      <td>2019-01-05</td>\n",
              "      <td>Kolkata</td>\n",
              "      <td>Banglore</td>\n",
              "      <td>CCU → IXR → BBI → BLR</td>\n",
              "      <td>05:50</td>\n",
              "      <td>13:15</td>\n",
              "      <td>7h 25m</td>\n",
              "      <td>2 stops</td>\n",
              "      <td>No info</td>\n",
              "      <td>7662.0</td>\n",
              "      <td>train</td>\n",
              "      <td>2019</td>\n",
              "      <td>1</td>\n",
              "      <td>5</td>\n",
              "    </tr>\n",
              "    <tr>\n",
              "      <th>2</th>\n",
              "      <td>Jet Airways</td>\n",
              "      <td>2019-09-06</td>\n",
              "      <td>Delhi</td>\n",
              "      <td>Cochin</td>\n",
              "      <td>DEL → LKO → BOM → COK</td>\n",
              "      <td>09:25</td>\n",
              "      <td>04:25 10 Jun</td>\n",
              "      <td>19h</td>\n",
              "      <td>2 stops</td>\n",
              "      <td>No info</td>\n",
              "      <td>13882.0</td>\n",
              "      <td>train</td>\n",
              "      <td>2019</td>\n",
              "      <td>9</td>\n",
              "      <td>6</td>\n",
              "    </tr>\n",
              "    <tr>\n",
              "      <th>3</th>\n",
              "      <td>IndiGo</td>\n",
              "      <td>2019-12-05</td>\n",
              "      <td>Kolkata</td>\n",
              "      <td>Banglore</td>\n",
              "      <td>CCU → NAG → BLR</td>\n",
              "      <td>18:05</td>\n",
              "      <td>23:30</td>\n",
              "      <td>5h 25m</td>\n",
              "      <td>1 stop</td>\n",
              "      <td>No info</td>\n",
              "      <td>6218.0</td>\n",
              "      <td>train</td>\n",
              "      <td>2019</td>\n",
              "      <td>12</td>\n",
              "      <td>5</td>\n",
              "    </tr>\n",
              "    <tr>\n",
              "      <th>4</th>\n",
              "      <td>IndiGo</td>\n",
              "      <td>2019-01-03</td>\n",
              "      <td>Banglore</td>\n",
              "      <td>New Delhi</td>\n",
              "      <td>BLR → NAG → DEL</td>\n",
              "      <td>16:50</td>\n",
              "      <td>21:35</td>\n",
              "      <td>4h 45m</td>\n",
              "      <td>1 stop</td>\n",
              "      <td>No info</td>\n",
              "      <td>13302.0</td>\n",
              "      <td>train</td>\n",
              "      <td>2019</td>\n",
              "      <td>1</td>\n",
              "      <td>3</td>\n",
              "    </tr>\n",
              "    <tr>\n",
              "      <th>...</th>\n",
              "      <td>...</td>\n",
              "      <td>...</td>\n",
              "      <td>...</td>\n",
              "      <td>...</td>\n",
              "      <td>...</td>\n",
              "      <td>...</td>\n",
              "      <td>...</td>\n",
              "      <td>...</td>\n",
              "      <td>...</td>\n",
              "      <td>...</td>\n",
              "      <td>...</td>\n",
              "      <td>...</td>\n",
              "      <td>...</td>\n",
              "      <td>...</td>\n",
              "      <td>...</td>\n",
              "    </tr>\n",
              "    <tr>\n",
              "      <th>13103</th>\n",
              "      <td>Air India</td>\n",
              "      <td>2019-06-06</td>\n",
              "      <td>Kolkata</td>\n",
              "      <td>Banglore</td>\n",
              "      <td>CCU → DEL → BLR</td>\n",
              "      <td>20:30</td>\n",
              "      <td>20:25 07 Jun</td>\n",
              "      <td>23h 55m</td>\n",
              "      <td>1 stop</td>\n",
              "      <td>No info</td>\n",
              "      <td>NaN</td>\n",
              "      <td>test</td>\n",
              "      <td>2019</td>\n",
              "      <td>6</td>\n",
              "      <td>6</td>\n",
              "    </tr>\n",
              "    <tr>\n",
              "      <th>13104</th>\n",
              "      <td>IndiGo</td>\n",
              "      <td>2019-03-27</td>\n",
              "      <td>Kolkata</td>\n",
              "      <td>Banglore</td>\n",
              "      <td>CCU → BLR</td>\n",
              "      <td>14:20</td>\n",
              "      <td>16:55</td>\n",
              "      <td>2h 35m</td>\n",
              "      <td>non-stop</td>\n",
              "      <td>No info</td>\n",
              "      <td>NaN</td>\n",
              "      <td>test</td>\n",
              "      <td>2019</td>\n",
              "      <td>3</td>\n",
              "      <td>27</td>\n",
              "    </tr>\n",
              "    <tr>\n",
              "      <th>13105</th>\n",
              "      <td>Jet Airways</td>\n",
              "      <td>2019-06-03</td>\n",
              "      <td>Delhi</td>\n",
              "      <td>Cochin</td>\n",
              "      <td>DEL → BOM → COK</td>\n",
              "      <td>21:50</td>\n",
              "      <td>04:25 07 Mar</td>\n",
              "      <td>6h 35m</td>\n",
              "      <td>1 stop</td>\n",
              "      <td>No info</td>\n",
              "      <td>NaN</td>\n",
              "      <td>test</td>\n",
              "      <td>2019</td>\n",
              "      <td>6</td>\n",
              "      <td>3</td>\n",
              "    </tr>\n",
              "    <tr>\n",
              "      <th>13106</th>\n",
              "      <td>Air India</td>\n",
              "      <td>2019-06-03</td>\n",
              "      <td>Delhi</td>\n",
              "      <td>Cochin</td>\n",
              "      <td>DEL → BOM → COK</td>\n",
              "      <td>04:00</td>\n",
              "      <td>19:15</td>\n",
              "      <td>15h 15m</td>\n",
              "      <td>1 stop</td>\n",
              "      <td>No info</td>\n",
              "      <td>NaN</td>\n",
              "      <td>test</td>\n",
              "      <td>2019</td>\n",
              "      <td>6</td>\n",
              "      <td>3</td>\n",
              "    </tr>\n",
              "    <tr>\n",
              "      <th>13107</th>\n",
              "      <td>Multiple carriers</td>\n",
              "      <td>2019-06-15</td>\n",
              "      <td>Delhi</td>\n",
              "      <td>Cochin</td>\n",
              "      <td>DEL → BOM → COK</td>\n",
              "      <td>04:55</td>\n",
              "      <td>19:15</td>\n",
              "      <td>14h 20m</td>\n",
              "      <td>1 stop</td>\n",
              "      <td>No info</td>\n",
              "      <td>NaN</td>\n",
              "      <td>test</td>\n",
              "      <td>2019</td>\n",
              "      <td>6</td>\n",
              "      <td>15</td>\n",
              "    </tr>\n",
              "  </tbody>\n",
              "</table>\n",
              "<p>13107 rows × 15 columns</p>\n",
              "</div>"
            ],
            "text/plain": [
              "                 Airline Date_of_Journey    Source Destination  \\\n",
              "0                 IndiGo      2019-03-24  Banglore   New Delhi   \n",
              "1              Air India      2019-01-05   Kolkata    Banglore   \n",
              "2            Jet Airways      2019-09-06     Delhi      Cochin   \n",
              "3                 IndiGo      2019-12-05   Kolkata    Banglore   \n",
              "4                 IndiGo      2019-01-03  Banglore   New Delhi   \n",
              "...                  ...             ...       ...         ...   \n",
              "13103          Air India      2019-06-06   Kolkata    Banglore   \n",
              "13104             IndiGo      2019-03-27   Kolkata    Banglore   \n",
              "13105        Jet Airways      2019-06-03     Delhi      Cochin   \n",
              "13106          Air India      2019-06-03     Delhi      Cochin   \n",
              "13107  Multiple carriers      2019-06-15     Delhi      Cochin   \n",
              "\n",
              "                       Route Dep_Time  Arrival_Time Duration Total_Stops  \\\n",
              "0                  BLR → DEL    22:20  01:10 22 Mar   2h 50m    non-stop   \n",
              "1      CCU → IXR → BBI → BLR    05:50         13:15   7h 25m     2 stops   \n",
              "2      DEL → LKO → BOM → COK    09:25  04:25 10 Jun      19h     2 stops   \n",
              "3            CCU → NAG → BLR    18:05         23:30   5h 25m      1 stop   \n",
              "4            BLR → NAG → DEL    16:50         21:35   4h 45m      1 stop   \n",
              "...                      ...      ...           ...      ...         ...   \n",
              "13103        CCU → DEL → BLR    20:30  20:25 07 Jun  23h 55m      1 stop   \n",
              "13104              CCU → BLR    14:20         16:55   2h 35m    non-stop   \n",
              "13105        DEL → BOM → COK    21:50  04:25 07 Mar   6h 35m      1 stop   \n",
              "13106        DEL → BOM → COK    04:00         19:15  15h 15m      1 stop   \n",
              "13107        DEL → BOM → COK    04:55         19:15  14h 20m      1 stop   \n",
              "\n",
              "      Additional_Info    Price   data  year  Month  Day  \n",
              "0             No info   3897.0  train  2019      3   24  \n",
              "1             No info   7662.0  train  2019      1    5  \n",
              "2             No info  13882.0  train  2019      9    6  \n",
              "3             No info   6218.0  train  2019     12    5  \n",
              "4             No info  13302.0  train  2019      1    3  \n",
              "...               ...      ...    ...   ...    ...  ...  \n",
              "13103         No info      NaN   test  2019      6    6  \n",
              "13104         No info      NaN   test  2019      3   27  \n",
              "13105         No info      NaN   test  2019      6    3  \n",
              "13106         No info      NaN   test  2019      6    3  \n",
              "13107         No info      NaN   test  2019      6   15  \n",
              "\n",
              "[13107 rows x 15 columns]"
            ]
          },
          "execution_count": 29,
          "metadata": {},
          "output_type": "execute_result"
        }
      ],
      "source": [
        "flight_price"
      ]
    },
    {
      "cell_type": "markdown",
      "id": "19ab32b2",
      "metadata": {
        "id": "19ab32b2"
      },
      "source": [
        "# Perform Exploratory Data Analysis (EDA) tasks"
      ]
    },
    {
      "cell_type": "markdown",
      "id": "9b673226",
      "metadata": {
        "id": "9b673226"
      },
      "source": [
        "# a) Which airline is most preferred airline"
      ]
    },
    {
      "cell_type": "code",
      "execution_count": null,
      "id": "abbd37e0",
      "metadata": {
        "id": "abbd37e0",
        "outputId": "201c878e-0d99-4834-e0df-d7b7f0b50485"
      },
      "outputs": [
        {
          "data": {
            "text/plain": [
              "Jet Airways                          4586\n",
              "IndiGo                               2552\n",
              "Air India                            2126\n",
              "Multiple carriers                    1539\n",
              "SpiceJet                             1023\n",
              "Vistara                               607\n",
              "Air Asia                              405\n",
              "GoAir                                 239\n",
              "Multiple carriers Premium economy      16\n",
              "Jet Airways Business                    8\n",
              "Vistara Premium economy                 5\n",
              "Trujet                                  1\n",
              "Name: Airline, dtype: int64"
            ]
          },
          "execution_count": 30,
          "metadata": {},
          "output_type": "execute_result"
        }
      ],
      "source": [
        "flight_price['Airline'].value_counts()"
      ]
    },
    {
      "cell_type": "code",
      "execution_count": null,
      "id": "2a05daac",
      "metadata": {
        "id": "2a05daac",
        "outputId": "90e510e9-132e-4201-dba6-9d1a792c9348"
      },
      "outputs": [
        {
          "data": {
            "image/png": "[encoded data removed]",
            "text/plain": [
              "<Figure size 800x800 with 1 Axes>"
            ]
          },
          "metadata": {},
          "output_type": "display_data"
        }
      ],
      "source": [
        "plt.figure(figsize=(8,8))\n",
        "sns.countplot(y=flight_price.Airline,linewidth=1.2)\n",
        "plt.title('Airline Mostly Prefered')\n",
        "plt.show()"
      ]
    },
    {
      "cell_type": "code",
      "execution_count": null,
      "id": "04c5cbf3",
      "metadata": {
        "id": "04c5cbf3"
      },
      "outputs": [],
      "source": [
        "# JetAirways is the Mostly preferred Airline"
      ]
    },
    {
      "cell_type": "markdown",
      "id": "53d5d210",
      "metadata": {
        "id": "53d5d210"
      },
      "source": [
        "#  Find the majority of the flights take off from which source"
      ]
    },
    {
      "cell_type": "code",
      "execution_count": null,
      "id": "494e8500",
      "metadata": {
        "id": "494e8500",
        "outputId": "146c19bc-4df7-481d-e99c-cbbf922fa102"
      },
      "outputs": [
        {
          "data": {
            "image/png": "[encoded data removed]",
            "text/plain": [
              "<Figure size 800x800 with 1 Axes>"
            ]
          },
          "metadata": {},
          "output_type": "display_data"
        }
      ],
      "source": [
        "plt.figure(figsize=(8,8))\n",
        "sns.countplot(y=flight_price.Source,linewidth=1.2)\n",
        "plt.title('Majority of Flight taken off')\n",
        "plt.show()"
      ]
    },
    {
      "cell_type": "code",
      "execution_count": null,
      "id": "7e7b3d78",
      "metadata": {
        "id": "7e7b3d78"
      },
      "outputs": [],
      "source": [
        "# Delhi is the Source where majrity of Flights have taken off"
      ]
    },
    {
      "cell_type": "markdown",
      "id": "f0f48e00",
      "metadata": {
        "id": "f0f48e00"
      },
      "source": [
        "#  Find maximum flights land in which destination\n"
      ]
    },
    {
      "cell_type": "code",
      "execution_count": null,
      "id": "c14fc5ef",
      "metadata": {
        "id": "c14fc5ef",
        "outputId": "73a2eb57-263a-470f-d7b1-89461cbcc19c"
      },
      "outputs": [
        {
          "data": {
            "image/png": "[encoded data removed]",
            "text/plain": [
              "<Figure size 800x800 with 1 Axes>"
            ]
          },
          "metadata": {},
          "output_type": "display_data"
        }
      ],
      "source": [
        "plt.figure(figsize=(8,8))\n",
        "sns.countplot(y=flight_price.Destination,linewidth=1.2)\n",
        "plt.title('maximum flights land ')\n",
        "plt.show()"
      ]
    },
    {
      "cell_type": "markdown",
      "id": "60b8893c",
      "metadata": {
        "id": "60b8893c"
      },
      "source": [
        "# Compare independent features with Target feature to check the impact on price\n"
      ]
    },
    {
      "cell_type": "markdown",
      "id": "f63e01f9",
      "metadata": {
        "id": "f63e01f9"
      },
      "source": [
        " # a) Which airline has the highest price"
      ]
    },
    {
      "cell_type": "code",
      "execution_count": null,
      "id": "f8a72948",
      "metadata": {
        "id": "f8a72948",
        "outputId": "6cc9ce35-b72a-430b-d9fa-e581db92ac2d"
      },
      "outputs": [
        {
          "data": {
            "image/png": "[encoded data removed]",
            "text/plain": [
              "<Figure size 1000x900 with 1 Axes>"
            ]
          },
          "metadata": {},
          "output_type": "display_data"
        }
      ],
      "source": [
        "plt.figure(figsize=(10,9))\n",
        "ax=sns.scatterplot(x=flight_price.Airline, y=flight_price.Price)\n",
        "ax.set_xticklabels(ax.get_xticklabels(),rotation=90,ha='right')\n",
        "plt.tight_layout()\n",
        "plt.show()"
      ]
    },
    {
      "cell_type": "code",
      "execution_count": null,
      "id": "484030b8",
      "metadata": {
        "id": "484030b8",
        "outputId": "bc96e66a-5d54-4bc9-eec3-b0f6484ef013"
      },
      "outputs": [
        {
          "data": {
            "image/png": "[encoded data removed]",
            "text/plain": [
              "<Figure size 1000x900 with 1 Axes>"
            ]
          },
          "metadata": {},
          "output_type": "display_data"
        }
      ],
      "source": [
        "plt.figure(figsize=(10,9))\n",
        "ax=sns.barplot(x=flight_price.Airline, y=flight_price.Price)\n",
        "ax.set_xticklabels(ax.get_xticklabels(),rotation=90,ha='right')\n",
        "plt.tight_layout()\n",
        "plt.show()"
      ]
    },
    {
      "cell_type": "markdown",
      "id": "755939fb",
      "metadata": {
        "id": "755939fb"
      },
      "source": [
        " # b) Check if the business class flights are high price or low and find only those flights which price is higher than 50k"
      ]
    },
    {
      "cell_type": "code",
      "execution_count": null,
      "id": "5a7e0875",
      "metadata": {
        "id": "5a7e0875",
        "outputId": "ca1c082f-7f0d-4917-d547-756100095735"
      },
      "outputs": [
        {
          "data": {
            "text/plain": [
              "No info                         10308\n",
              "In-flight meal not included      2366\n",
              "No check-in baggage included      394\n",
              "1 Long layover                     20\n",
              "Change airports                     8\n",
              "Business class                      5\n",
              "No Info                             3\n",
              "1 Short layover                     1\n",
              "Red-eye flight                      1\n",
              "2 Long layover                      1\n",
              "Name: Additional_Info, dtype: int64"
            ]
          },
          "execution_count": 38,
          "metadata": {},
          "output_type": "execute_result"
        }
      ],
      "source": [
        "flight_price['Additional_Info'].value_counts()"
      ]
    },
    {
      "cell_type": "code",
      "execution_count": null,
      "id": "e7a83924",
      "metadata": {
        "id": "e7a83924",
        "outputId": "07947b6c-7e4c-406f-ebf3-422ed1dd2946"
      },
      "outputs": [
        {
          "data": {
            "text/html": [
              "<div>\n",
              "<style scoped>\n",
              "    .dataframe tbody tr th:only-of-type {\n",
              "        vertical-align: middle;\n",
              "    }\n",
              "\n",
              "    .dataframe tbody tr th {\n",
              "        vertical-align: top;\n",
              "    }\n",
              "\n",
              "    .dataframe thead th {\n",
              "        text-align: right;\n",
              "    }\n",
              "</style>\n",
              "<table border=\"1\" class=\"dataframe\">\n",
              "  <thead>\n",
              "    <tr style=\"text-align: right;\">\n",
              "      <th></th>\n",
              "      <th>Airline</th>\n",
              "      <th>Date_of_Journey</th>\n",
              "      <th>Source</th>\n",
              "      <th>Destination</th>\n",
              "      <th>Route</th>\n",
              "      <th>Dep_Time</th>\n",
              "      <th>Arrival_Time</th>\n",
              "      <th>Duration</th>\n",
              "      <th>Total_Stops</th>\n",
              "      <th>Additional_Info</th>\n",
              "      <th>Price</th>\n",
              "      <th>data</th>\n",
              "      <th>year</th>\n",
              "      <th>Month</th>\n",
              "      <th>Day</th>\n",
              "    </tr>\n",
              "  </thead>\n",
              "  <tbody>\n",
              "    <tr>\n",
              "      <th>2904</th>\n",
              "      <td>Jet Airways Business</td>\n",
              "      <td>2019-01-03</td>\n",
              "      <td>Banglore</td>\n",
              "      <td>New Delhi</td>\n",
              "      <td>BLR → BOM → DEL</td>\n",
              "      <td>05:45</td>\n",
              "      <td>11:25</td>\n",
              "      <td>5h 40m</td>\n",
              "      <td>1 stop</td>\n",
              "      <td>Business class</td>\n",
              "      <td>79512.0</td>\n",
              "      <td>train</td>\n",
              "      <td>2019</td>\n",
              "      <td>1</td>\n",
              "      <td>3</td>\n",
              "    </tr>\n",
              "    <tr>\n",
              "      <th>5312</th>\n",
              "      <td>Jet Airways Business</td>\n",
              "      <td>2019-01-03</td>\n",
              "      <td>Banglore</td>\n",
              "      <td>New Delhi</td>\n",
              "      <td>BLR → BOM → DEL</td>\n",
              "      <td>05:45</td>\n",
              "      <td>12:25</td>\n",
              "      <td>6h 40m</td>\n",
              "      <td>1 stop</td>\n",
              "      <td>Business class</td>\n",
              "      <td>62427.0</td>\n",
              "      <td>train</td>\n",
              "      <td>2019</td>\n",
              "      <td>1</td>\n",
              "      <td>3</td>\n",
              "    </tr>\n",
              "    <tr>\n",
              "      <th>10160</th>\n",
              "      <td>Jet Airways Business</td>\n",
              "      <td>2019-01-03</td>\n",
              "      <td>Banglore</td>\n",
              "      <td>New Delhi</td>\n",
              "      <td>BLR → MAA → DEL</td>\n",
              "      <td>09:45</td>\n",
              "      <td>14:25</td>\n",
              "      <td>4h 40m</td>\n",
              "      <td>1 stop</td>\n",
              "      <td>Business class</td>\n",
              "      <td>57209.0</td>\n",
              "      <td>train</td>\n",
              "      <td>2019</td>\n",
              "      <td>1</td>\n",
              "      <td>3</td>\n",
              "    </tr>\n",
              "  </tbody>\n",
              "</table>\n",
              "</div>"
            ],
            "text/plain": [
              "                    Airline Date_of_Journey    Source Destination  \\\n",
              "2904   Jet Airways Business      2019-01-03  Banglore   New Delhi   \n",
              "5312   Jet Airways Business      2019-01-03  Banglore   New Delhi   \n",
              "10160  Jet Airways Business      2019-01-03  Banglore   New Delhi   \n",
              "\n",
              "                 Route Dep_Time Arrival_Time Duration Total_Stops  \\\n",
              "2904   BLR → BOM → DEL    05:45        11:25   5h 40m      1 stop   \n",
              "5312   BLR → BOM → DEL    05:45        12:25   6h 40m      1 stop   \n",
              "10160  BLR → MAA → DEL    09:45        14:25   4h 40m      1 stop   \n",
              "\n",
              "      Additional_Info    Price   data  year  Month  Day  \n",
              "2904   Business class  79512.0  train  2019      1    3  \n",
              "5312   Business class  62427.0  train  2019      1    3  \n",
              "10160  Business class  57209.0  train  2019      1    3  "
            ]
          },
          "execution_count": 39,
          "metadata": {},
          "output_type": "execute_result"
        }
      ],
      "source": [
        "bussiness_c=flight_price[flight_price['Additional_Info']=='Business class']\n",
        "bussiness_class=bussiness_c[bussiness_c['Price']>50000]\n",
        "bussiness_class"
      ]
    },
    {
      "cell_type": "code",
      "execution_count": null,
      "id": "8424398b",
      "metadata": {
        "scrolled": true,
        "id": "8424398b",
        "outputId": "e9c206d4-ca1d-44ad-ba24-df9783712926"
      },
      "outputs": [
        {
          "data": {
            "image/png": "[encoded data removed]",
            "text/plain": [
              "<Figure size 800x800 with 1 Axes>"
            ]
          },
          "metadata": {},
          "output_type": "display_data"
        }
      ],
      "source": [
        "plt.figure(figsize=(8,8))\n",
        "bussiness_class_price=flight_price['Additional_Info']\n",
        "ax=sns.barplot(x=bussiness_class_price.index,y=bussiness_class_price, color='skyblue')\n",
        "ax.set_xticklabels(ax.get_xticklabels(),rotation=90,ha='right')\n",
        "plt.show()"
      ]
    },
    {
      "cell_type": "code",
      "execution_count": null,
      "id": "6437e39f",
      "metadata": {
        "id": "6437e39f"
      },
      "outputs": [],
      "source": [
        "#Extracted Minutes from Duration\n",
        "\n",
        "flight_price['Duration']=flight_price['Duration']/np.timedelta64(1,'m')"
      ]
    },
    {
      "cell_type": "code",
      "execution_count": null,
      "id": "c2bc1c1f",
      "metadata": {
        "id": "c2bc1c1f",
        "outputId": "6665345d-6ed8-485e-9809-16d778b0ee03"
      },
      "outputs": [
        {
          "data": {
            "text/html": [
              "<div>\n",
              "<style scoped>\n",
              "    .dataframe tbody tr th:only-of-type {\n",
              "        vertical-align: middle;\n",
              "    }\n",
              "\n",
              "    .dataframe tbody tr th {\n",
              "        vertical-align: top;\n",
              "    }\n",
              "\n",
              "    .dataframe thead th {\n",
              "        text-align: right;\n",
              "    }\n",
              "</style>\n",
              "<table border=\"1\" class=\"dataframe\">\n",
              "  <thead>\n",
              "    <tr style=\"text-align: right;\">\n",
              "      <th></th>\n",
              "      <th>Airline</th>\n",
              "      <th>Date_of_Journey</th>\n",
              "      <th>Source</th>\n",
              "      <th>Destination</th>\n",
              "      <th>Route</th>\n",
              "      <th>Dep_Time</th>\n",
              "      <th>Arrival_Time</th>\n",
              "      <th>Duration</th>\n",
              "      <th>Total_Stops</th>\n",
              "      <th>Additional_Info</th>\n",
              "      <th>Price</th>\n",
              "      <th>data</th>\n",
              "      <th>year</th>\n",
              "      <th>Month</th>\n",
              "      <th>Day</th>\n",
              "    </tr>\n",
              "  </thead>\n",
              "  <tbody>\n",
              "    <tr>\n",
              "      <th>0</th>\n",
              "      <td>IndiGo</td>\n",
              "      <td>2019-03-24</td>\n",
              "      <td>Banglore</td>\n",
              "      <td>New Delhi</td>\n",
              "      <td>BLR → DEL</td>\n",
              "      <td>22:20</td>\n",
              "      <td>01:10 22 Mar</td>\n",
              "      <td>170.0</td>\n",
              "      <td>non-stop</td>\n",
              "      <td>No info</td>\n",
              "      <td>3897.0</td>\n",
              "      <td>train</td>\n",
              "      <td>2019</td>\n",
              "      <td>3</td>\n",
              "      <td>24</td>\n",
              "    </tr>\n",
              "    <tr>\n",
              "      <th>1</th>\n",
              "      <td>Air India</td>\n",
              "      <td>2019-01-05</td>\n",
              "      <td>Kolkata</td>\n",
              "      <td>Banglore</td>\n",
              "      <td>CCU → IXR → BBI → BLR</td>\n",
              "      <td>05:50</td>\n",
              "      <td>13:15</td>\n",
              "      <td>445.0</td>\n",
              "      <td>2 stops</td>\n",
              "      <td>No info</td>\n",
              "      <td>7662.0</td>\n",
              "      <td>train</td>\n",
              "      <td>2019</td>\n",
              "      <td>1</td>\n",
              "      <td>5</td>\n",
              "    </tr>\n",
              "    <tr>\n",
              "      <th>2</th>\n",
              "      <td>Jet Airways</td>\n",
              "      <td>2019-09-06</td>\n",
              "      <td>Delhi</td>\n",
              "      <td>Cochin</td>\n",
              "      <td>DEL → LKO → BOM → COK</td>\n",
              "      <td>09:25</td>\n",
              "      <td>04:25 10 Jun</td>\n",
              "      <td>1140.0</td>\n",
              "      <td>2 stops</td>\n",
              "      <td>No info</td>\n",
              "      <td>13882.0</td>\n",
              "      <td>train</td>\n",
              "      <td>2019</td>\n",
              "      <td>9</td>\n",
              "      <td>6</td>\n",
              "    </tr>\n",
              "    <tr>\n",
              "      <th>3</th>\n",
              "      <td>IndiGo</td>\n",
              "      <td>2019-12-05</td>\n",
              "      <td>Kolkata</td>\n",
              "      <td>Banglore</td>\n",
              "      <td>CCU → NAG → BLR</td>\n",
              "      <td>18:05</td>\n",
              "      <td>23:30</td>\n",
              "      <td>325.0</td>\n",
              "      <td>1 stop</td>\n",
              "      <td>No info</td>\n",
              "      <td>6218.0</td>\n",
              "      <td>train</td>\n",
              "      <td>2019</td>\n",
              "      <td>12</td>\n",
              "      <td>5</td>\n",
              "    </tr>\n",
              "    <tr>\n",
              "      <th>4</th>\n",
              "      <td>IndiGo</td>\n",
              "      <td>2019-01-03</td>\n",
              "      <td>Banglore</td>\n",
              "      <td>New Delhi</td>\n",
              "      <td>BLR → NAG → DEL</td>\n",
              "      <td>16:50</td>\n",
              "      <td>21:35</td>\n",
              "      <td>285.0</td>\n",
              "      <td>1 stop</td>\n",
              "      <td>No info</td>\n",
              "      <td>13302.0</td>\n",
              "      <td>train</td>\n",
              "      <td>2019</td>\n",
              "      <td>1</td>\n",
              "      <td>3</td>\n",
              "    </tr>\n",
              "    <tr>\n",
              "      <th>...</th>\n",
              "      <td>...</td>\n",
              "      <td>...</td>\n",
              "      <td>...</td>\n",
              "      <td>...</td>\n",
              "      <td>...</td>\n",
              "      <td>...</td>\n",
              "      <td>...</td>\n",
              "      <td>...</td>\n",
              "      <td>...</td>\n",
              "      <td>...</td>\n",
              "      <td>...</td>\n",
              "      <td>...</td>\n",
              "      <td>...</td>\n",
              "      <td>...</td>\n",
              "      <td>...</td>\n",
              "    </tr>\n",
              "    <tr>\n",
              "      <th>13103</th>\n",
              "      <td>Air India</td>\n",
              "      <td>2019-06-06</td>\n",
              "      <td>Kolkata</td>\n",
              "      <td>Banglore</td>\n",
              "      <td>CCU → DEL → BLR</td>\n",
              "      <td>20:30</td>\n",
              "      <td>20:25 07 Jun</td>\n",
              "      <td>1435.0</td>\n",
              "      <td>1 stop</td>\n",
              "      <td>No info</td>\n",
              "      <td>NaN</td>\n",
              "      <td>test</td>\n",
              "      <td>2019</td>\n",
              "      <td>6</td>\n",
              "      <td>6</td>\n",
              "    </tr>\n",
              "    <tr>\n",
              "      <th>13104</th>\n",
              "      <td>IndiGo</td>\n",
              "      <td>2019-03-27</td>\n",
              "      <td>Kolkata</td>\n",
              "      <td>Banglore</td>\n",
              "      <td>CCU → BLR</td>\n",
              "      <td>14:20</td>\n",
              "      <td>16:55</td>\n",
              "      <td>155.0</td>\n",
              "      <td>non-stop</td>\n",
              "      <td>No info</td>\n",
              "      <td>NaN</td>\n",
              "      <td>test</td>\n",
              "      <td>2019</td>\n",
              "      <td>3</td>\n",
              "      <td>27</td>\n",
              "    </tr>\n",
              "    <tr>\n",
              "      <th>13105</th>\n",
              "      <td>Jet Airways</td>\n",
              "      <td>2019-06-03</td>\n",
              "      <td>Delhi</td>\n",
              "      <td>Cochin</td>\n",
              "      <td>DEL → BOM → COK</td>\n",
              "      <td>21:50</td>\n",
              "      <td>04:25 07 Mar</td>\n",
              "      <td>395.0</td>\n",
              "      <td>1 stop</td>\n",
              "      <td>No info</td>\n",
              "      <td>NaN</td>\n",
              "      <td>test</td>\n",
              "      <td>2019</td>\n",
              "      <td>6</td>\n",
              "      <td>3</td>\n",
              "    </tr>\n",
              "    <tr>\n",
              "      <th>13106</th>\n",
              "      <td>Air India</td>\n",
              "      <td>2019-06-03</td>\n",
              "      <td>Delhi</td>\n",
              "      <td>Cochin</td>\n",
              "      <td>DEL → BOM → COK</td>\n",
              "      <td>04:00</td>\n",
              "      <td>19:15</td>\n",
              "      <td>915.0</td>\n",
              "      <td>1 stop</td>\n",
              "      <td>No info</td>\n",
              "      <td>NaN</td>\n",
              "      <td>test</td>\n",
              "      <td>2019</td>\n",
              "      <td>6</td>\n",
              "      <td>3</td>\n",
              "    </tr>\n",
              "    <tr>\n",
              "      <th>13107</th>\n",
              "      <td>Multiple carriers</td>\n",
              "      <td>2019-06-15</td>\n",
              "      <td>Delhi</td>\n",
              "      <td>Cochin</td>\n",
              "      <td>DEL → BOM → COK</td>\n",
              "      <td>04:55</td>\n",
              "      <td>19:15</td>\n",
              "      <td>860.0</td>\n",
              "      <td>1 stop</td>\n",
              "      <td>No info</td>\n",
              "      <td>NaN</td>\n",
              "      <td>test</td>\n",
              "      <td>2019</td>\n",
              "      <td>6</td>\n",
              "      <td>15</td>\n",
              "    </tr>\n",
              "  </tbody>\n",
              "</table>\n",
              "<p>13107 rows × 15 columns</p>\n",
              "</div>"
            ],
            "text/plain": [
              "                 Airline Date_of_Journey    Source Destination  \\\n",
              "0                 IndiGo      2019-03-24  Banglore   New Delhi   \n",
              "1              Air India      2019-01-05   Kolkata    Banglore   \n",
              "2            Jet Airways      2019-09-06     Delhi      Cochin   \n",
              "3                 IndiGo      2019-12-05   Kolkata    Banglore   \n",
              "4                 IndiGo      2019-01-03  Banglore   New Delhi   \n",
              "...                  ...             ...       ...         ...   \n",
              "13103          Air India      2019-06-06   Kolkata    Banglore   \n",
              "13104             IndiGo      2019-03-27   Kolkata    Banglore   \n",
              "13105        Jet Airways      2019-06-03     Delhi      Cochin   \n",
              "13106          Air India      2019-06-03     Delhi      Cochin   \n",
              "13107  Multiple carriers      2019-06-15     Delhi      Cochin   \n",
              "\n",
              "                       Route Dep_Time  Arrival_Time  Duration Total_Stops  \\\n",
              "0                  BLR → DEL    22:20  01:10 22 Mar     170.0    non-stop   \n",
              "1      CCU → IXR → BBI → BLR    05:50         13:15     445.0     2 stops   \n",
              "2      DEL → LKO → BOM → COK    09:25  04:25 10 Jun    1140.0     2 stops   \n",
              "3            CCU → NAG → BLR    18:05         23:30     325.0      1 stop   \n",
              "4            BLR → NAG → DEL    16:50         21:35     285.0      1 stop   \n",
              "...                      ...      ...           ...       ...         ...   \n",
              "13103        CCU → DEL → BLR    20:30  20:25 07 Jun    1435.0      1 stop   \n",
              "13104              CCU → BLR    14:20         16:55     155.0    non-stop   \n",
              "13105        DEL → BOM → COK    21:50  04:25 07 Mar     395.0      1 stop   \n",
              "13106        DEL → BOM → COK    04:00         19:15     915.0      1 stop   \n",
              "13107        DEL → BOM → COK    04:55         19:15     860.0      1 stop   \n",
              "\n",
              "      Additional_Info    Price   data  year  Month  Day  \n",
              "0             No info   3897.0  train  2019      3   24  \n",
              "1             No info   7662.0  train  2019      1    5  \n",
              "2             No info  13882.0  train  2019      9    6  \n",
              "3             No info   6218.0  train  2019     12    5  \n",
              "4             No info  13302.0  train  2019      1    3  \n",
              "...               ...      ...    ...   ...    ...  ...  \n",
              "13103         No info      NaN   test  2019      6    6  \n",
              "13104         No info      NaN   test  2019      3   27  \n",
              "13105         No info      NaN   test  2019      6    3  \n",
              "13106         No info      NaN   test  2019      6    3  \n",
              "13107         No info      NaN   test  2019      6   15  \n",
              "\n",
              "[13107 rows x 15 columns]"
            ]
          },
          "execution_count": 43,
          "metadata": {},
          "output_type": "execute_result"
        }
      ],
      "source": [
        "flight_price"
      ]
    },
    {
      "cell_type": "code",
      "execution_count": null,
      "id": "38bb06ed",
      "metadata": {
        "id": "38bb06ed",
        "outputId": "0b160fb0-b242-4c31-d0cc-318d90174731"
      },
      "outputs": [
        {
          "data": {
            "text/plain": [
              "train    10462\n",
              "test      2645\n",
              "Name: data, dtype: int64"
            ]
          },
          "execution_count": 44,
          "metadata": {},
          "output_type": "execute_result"
        }
      ],
      "source": [
        "flight_price['data'].value_counts()"
      ]
    },
    {
      "cell_type": "code",
      "execution_count": null,
      "id": "f8a0654f",
      "metadata": {
        "id": "f8a0654f",
        "outputId": "5f10e00d-08af-407d-c6ab-16b17fbf18ea"
      },
      "outputs": [
        {
          "data": {
            "text/plain": [
              "2019    13107\n",
              "Name: year, dtype: int64"
            ]
          },
          "execution_count": 45,
          "metadata": {},
          "output_type": "execute_result"
        }
      ],
      "source": [
        "flight_price['year'].value_counts()"
      ]
    },
    {
      "cell_type": "code",
      "execution_count": null,
      "id": "9eb64108",
      "metadata": {
        "id": "9eb64108",
        "outputId": "c24e1786-14ae-4d2b-f480-2ad12489cc7b"
      },
      "outputs": [
        {
          "name": "stdout",
          "output_type": "stream",
          "text": [
            "<class 'pandas.core.frame.DataFrame'>\n",
            "Int64Index: 13107 entries, 0 to 13107\n",
            "Data columns (total 15 columns):\n",
            " #   Column           Non-Null Count  Dtype         \n",
            "---  ------           --------------  -----         \n",
            " 0   Airline          13107 non-null  object        \n",
            " 1   Date_of_Journey  13107 non-null  datetime64[ns]\n",
            " 2   Source           13107 non-null  object        \n",
            " 3   Destination      13107 non-null  object        \n",
            " 4   Route            13107 non-null  object        \n",
            " 5   Dep_Time         13107 non-null  object        \n",
            " 6   Arrival_Time     13107 non-null  object        \n",
            " 7   Duration         13107 non-null  float64       \n",
            " 8   Total_Stops      13107 non-null  object        \n",
            " 9   Additional_Info  13107 non-null  object        \n",
            " 10  Price            10462 non-null  float64       \n",
            " 11  data             13107 non-null  object        \n",
            " 12  year             13107 non-null  int64         \n",
            " 13  Month            13107 non-null  int64         \n",
            " 14  Day              13107 non-null  int64         \n",
            "dtypes: datetime64[ns](1), float64(2), int64(3), object(9)\n",
            "memory usage: 1.6+ MB\n"
          ]
        }
      ],
      "source": [
        "flight_price.info()"
      ]
    },
    {
      "cell_type": "markdown",
      "id": "b424a7b7",
      "metadata": {
        "id": "b424a7b7"
      },
      "source": [
        "# Encoding\n"
      ]
    },
    {
      "cell_type": "code",
      "execution_count": null,
      "id": "c7a06f77",
      "metadata": {
        "id": "c7a06f77"
      },
      "outputs": [],
      "source": [
        "flight_data=flight_price.drop(['Date_of_Journey','Route','Dep_Time','Arrival_Time','year','Day'],axis=1)"
      ]
    },
    {
      "cell_type": "code",
      "execution_count": null,
      "id": "2bcccc1a",
      "metadata": {
        "id": "2bcccc1a"
      },
      "outputs": [],
      "source": [
        "flight_data['Airline']=flight_data['Airline'].astype('category')\n",
        "flight_data['Airline']=flight_data['Airline'].cat.codes\n",
        "\n",
        "flight_data['Source']=flight_data['Source'].astype('category')\n",
        "flight_data['Source']=flight_data['Source'].cat.codes\n",
        "\n",
        "flight_data['Destination']=flight_data['Destination'].astype('category')\n",
        "flight_data['Destination']=flight_data['Destination'].cat.codes"
      ]
    },
    {
      "cell_type": "code",
      "execution_count": null,
      "id": "38a42b29",
      "metadata": {
        "id": "38a42b29"
      },
      "outputs": [],
      "source": [
        "flight_data['Total_Stops']=flight_data['Total_Stops'].replace('non-stop',0)"
      ]
    },
    {
      "cell_type": "code",
      "execution_count": null,
      "id": "0e559c37",
      "metadata": {
        "id": "0e559c37",
        "outputId": "9c31880a-92db-4391-bca9-2dfae47210f0"
      },
      "outputs": [
        {
          "data": {
            "text/plain": [
              "1 stop     7052\n",
              "0          4321\n",
              "2 stops    1678\n",
              "3 stops      54\n",
              "4 stops       2\n",
              "Name: Total_Stops, dtype: int64"
            ]
          },
          "execution_count": 50,
          "metadata": {},
          "output_type": "execute_result"
        }
      ],
      "source": [
        "flight_data['Total_Stops'].value_counts()"
      ]
    },
    {
      "cell_type": "code",
      "execution_count": null,
      "id": "a20fb093",
      "metadata": {
        "id": "a20fb093"
      },
      "outputs": [],
      "source": [
        "flight_data['Total_Stops']=flight_data['Total_Stops'].replace('1 stop',1)\n",
        "flight_data['Total_Stops']=flight_data['Total_Stops'].replace('2 stops',2)\n",
        "flight_data['Total_Stops']=flight_data['Total_Stops'].replace('3 stops',3)\n",
        "flight_data['Total_Stops']=flight_data['Total_Stops'].replace('4 stops',4)"
      ]
    },
    {
      "cell_type": "code",
      "execution_count": null,
      "id": "04f759ea",
      "metadata": {
        "id": "04f759ea",
        "outputId": "4087921c-d0f3-44aa-ae45-af1a3a7c42ec"
      },
      "outputs": [
        {
          "data": {
            "text/plain": [
              "1    7052\n",
              "0    4321\n",
              "2    1678\n",
              "3      54\n",
              "4       2\n",
              "Name: Total_Stops, dtype: int64"
            ]
          },
          "execution_count": 52,
          "metadata": {},
          "output_type": "execute_result"
        }
      ],
      "source": [
        "flight_data['Total_Stops'].value_counts()"
      ]
    },
    {
      "cell_type": "code",
      "execution_count": null,
      "id": "bf6344fd",
      "metadata": {
        "id": "bf6344fd",
        "outputId": "8a26671e-293e-4f0e-81c8-3174fc41ca9f"
      },
      "outputs": [
        {
          "data": {
            "text/plain": [
              "No info                         10308\n",
              "In-flight meal not included      2366\n",
              "No check-in baggage included      394\n",
              "1 Long layover                     20\n",
              "Change airports                     8\n",
              "Business class                      5\n",
              "No Info                             3\n",
              "1 Short layover                     1\n",
              "Red-eye flight                      1\n",
              "2 Long layover                      1\n",
              "Name: Additional_Info, dtype: int64"
            ]
          },
          "execution_count": 53,
          "metadata": {},
          "output_type": "execute_result"
        }
      ],
      "source": [
        "flight_data['Additional_Info'].value_counts()"
      ]
    },
    {
      "cell_type": "code",
      "execution_count": null,
      "id": "1099689e",
      "metadata": {
        "id": "1099689e"
      },
      "outputs": [],
      "source": [
        "flight_data['Additional_Info']=flight_data['Additional_Info'].replace('No Info','No info')"
      ]
    },
    {
      "cell_type": "code",
      "execution_count": null,
      "id": "ad19a046",
      "metadata": {
        "id": "ad19a046"
      },
      "outputs": [],
      "source": [
        "# label Encoding\n",
        "flight_data['Additional_Info']=flight_data['Additional_Info'].astype('category')\n",
        "flight_data['Additional_Info']=flight_data['Additional_Info'].cat.codes"
      ]
    },
    {
      "cell_type": "code",
      "execution_count": null,
      "id": "ca9eae9c",
      "metadata": {
        "id": "ca9eae9c",
        "outputId": "e08c448a-cc79-454e-cf31-8477a606d6b3"
      },
      "outputs": [
        {
          "data": {
            "text/plain": [
              "7    10311\n",
              "5     2366\n",
              "6      394\n",
              "0       20\n",
              "4        8\n",
              "3        5\n",
              "1        1\n",
              "8        1\n",
              "2        1\n",
              "Name: Additional_Info, dtype: int64"
            ]
          },
          "execution_count": 56,
          "metadata": {},
          "output_type": "execute_result"
        }
      ],
      "source": [
        "flight_data['Additional_Info'].value_counts()"
      ]
    },
    {
      "cell_type": "code",
      "execution_count": null,
      "id": "43a5ffbd",
      "metadata": {
        "id": "43a5ffbd",
        "outputId": "ed14e35f-7fbe-4a0c-ce3a-ea5a55a29712"
      },
      "outputs": [
        {
          "data": {
            "text/plain": [
              "train    10462\n",
              "test      2645\n",
              "Name: data, dtype: int64"
            ]
          },
          "execution_count": 57,
          "metadata": {},
          "output_type": "execute_result"
        }
      ],
      "source": [
        "flight_data['data'].value_counts()"
      ]
    },
    {
      "cell_type": "code",
      "execution_count": null,
      "id": "742c3953",
      "metadata": {
        "scrolled": true,
        "id": "742c3953",
        "outputId": "36cff25a-d09d-428e-ed0c-b7fa9f53634d"
      },
      "outputs": [
        {
          "name": "stdout",
          "output_type": "stream",
          "text": [
            "<class 'pandas.core.frame.DataFrame'>\n",
            "Int64Index: 13107 entries, 0 to 13107\n",
            "Data columns (total 9 columns):\n",
            " #   Column           Non-Null Count  Dtype  \n",
            "---  ------           --------------  -----  \n",
            " 0   Airline          13107 non-null  int8   \n",
            " 1   Source           13107 non-null  int8   \n",
            " 2   Destination      13107 non-null  int8   \n",
            " 3   Duration         13107 non-null  float64\n",
            " 4   Total_Stops      13107 non-null  int64  \n",
            " 5   Additional_Info  13107 non-null  int8   \n",
            " 6   Price            10462 non-null  float64\n",
            " 7   data             13107 non-null  object \n",
            " 8   Month            13107 non-null  int64  \n",
            "dtypes: float64(2), int64(2), int8(4), object(1)\n",
            "memory usage: 665.6+ KB\n"
          ]
        }
      ],
      "source": [
        "flight_data.info()"
      ]
    },
    {
      "cell_type": "code",
      "execution_count": null,
      "id": "2a2ea124",
      "metadata": {
        "id": "2a2ea124"
      },
      "outputs": [],
      "source": [
        "flight_data_train=flight_data[flight_data['data']=='train']\n",
        "flight_data_test=flight_data[flight_data['data']=='test']"
      ]
    },
    {
      "cell_type": "code",
      "execution_count": null,
      "id": "137a42ad",
      "metadata": {
        "id": "137a42ad",
        "outputId": "187126fa-7d7b-42a7-c2a9-5b0c322cf910"
      },
      "outputs": [
        {
          "data": {
            "text/html": [
              "<div>\n",
              "<style scoped>\n",
              "    .dataframe tbody tr th:only-of-type {\n",
              "        vertical-align: middle;\n",
              "    }\n",
              "\n",
              "    .dataframe tbody tr th {\n",
              "        vertical-align: top;\n",
              "    }\n",
              "\n",
              "    .dataframe thead th {\n",
              "        text-align: right;\n",
              "    }\n",
              "</style>\n",
              "<table border=\"1\" class=\"dataframe\">\n",
              "  <thead>\n",
              "    <tr style=\"text-align: right;\">\n",
              "      <th></th>\n",
              "      <th>Airline</th>\n",
              "      <th>Source</th>\n",
              "      <th>Destination</th>\n",
              "      <th>Duration</th>\n",
              "      <th>Total_Stops</th>\n",
              "      <th>Additional_Info</th>\n",
              "      <th>Price</th>\n",
              "      <th>data</th>\n",
              "      <th>Month</th>\n",
              "    </tr>\n",
              "  </thead>\n",
              "  <tbody>\n",
              "    <tr>\n",
              "      <th>10463</th>\n",
              "      <td>4</td>\n",
              "      <td>2</td>\n",
              "      <td>1</td>\n",
              "      <td>655.0</td>\n",
              "      <td>1</td>\n",
              "      <td>7</td>\n",
              "      <td>NaN</td>\n",
              "      <td>test</td>\n",
              "      <td>6</td>\n",
              "    </tr>\n",
              "    <tr>\n",
              "      <th>10464</th>\n",
              "      <td>3</td>\n",
              "      <td>3</td>\n",
              "      <td>0</td>\n",
              "      <td>240.0</td>\n",
              "      <td>1</td>\n",
              "      <td>7</td>\n",
              "      <td>NaN</td>\n",
              "      <td>test</td>\n",
              "      <td>12</td>\n",
              "    </tr>\n",
              "    <tr>\n",
              "      <th>10465</th>\n",
              "      <td>4</td>\n",
              "      <td>2</td>\n",
              "      <td>1</td>\n",
              "      <td>1425.0</td>\n",
              "      <td>1</td>\n",
              "      <td>5</td>\n",
              "      <td>NaN</td>\n",
              "      <td>test</td>\n",
              "      <td>5</td>\n",
              "    </tr>\n",
              "    <tr>\n",
              "      <th>10466</th>\n",
              "      <td>6</td>\n",
              "      <td>2</td>\n",
              "      <td>1</td>\n",
              "      <td>780.0</td>\n",
              "      <td>1</td>\n",
              "      <td>7</td>\n",
              "      <td>NaN</td>\n",
              "      <td>test</td>\n",
              "      <td>5</td>\n",
              "    </tr>\n",
              "    <tr>\n",
              "      <th>10467</th>\n",
              "      <td>0</td>\n",
              "      <td>0</td>\n",
              "      <td>2</td>\n",
              "      <td>170.0</td>\n",
              "      <td>0</td>\n",
              "      <td>7</td>\n",
              "      <td>NaN</td>\n",
              "      <td>test</td>\n",
              "      <td>6</td>\n",
              "    </tr>\n",
              "    <tr>\n",
              "      <th>...</th>\n",
              "      <td>...</td>\n",
              "      <td>...</td>\n",
              "      <td>...</td>\n",
              "      <td>...</td>\n",
              "      <td>...</td>\n",
              "      <td>...</td>\n",
              "      <td>...</td>\n",
              "      <td>...</td>\n",
              "      <td>...</td>\n",
              "    </tr>\n",
              "    <tr>\n",
              "      <th>13103</th>\n",
              "      <td>1</td>\n",
              "      <td>3</td>\n",
              "      <td>0</td>\n",
              "      <td>1435.0</td>\n",
              "      <td>1</td>\n",
              "      <td>7</td>\n",
              "      <td>NaN</td>\n",
              "      <td>test</td>\n",
              "      <td>6</td>\n",
              "    </tr>\n",
              "    <tr>\n",
              "      <th>13104</th>\n",
              "      <td>3</td>\n",
              "      <td>3</td>\n",
              "      <td>0</td>\n",
              "      <td>155.0</td>\n",
              "      <td>0</td>\n",
              "      <td>7</td>\n",
              "      <td>NaN</td>\n",
              "      <td>test</td>\n",
              "      <td>3</td>\n",
              "    </tr>\n",
              "    <tr>\n",
              "      <th>13105</th>\n",
              "      <td>4</td>\n",
              "      <td>2</td>\n",
              "      <td>1</td>\n",
              "      <td>395.0</td>\n",
              "      <td>1</td>\n",
              "      <td>7</td>\n",
              "      <td>NaN</td>\n",
              "      <td>test</td>\n",
              "      <td>6</td>\n",
              "    </tr>\n",
              "    <tr>\n",
              "      <th>13106</th>\n",
              "      <td>1</td>\n",
              "      <td>2</td>\n",
              "      <td>1</td>\n",
              "      <td>915.0</td>\n",
              "      <td>1</td>\n",
              "      <td>7</td>\n",
              "      <td>NaN</td>\n",
              "      <td>test</td>\n",
              "      <td>6</td>\n",
              "    </tr>\n",
              "    <tr>\n",
              "      <th>13107</th>\n",
              "      <td>6</td>\n",
              "      <td>2</td>\n",
              "      <td>1</td>\n",
              "      <td>860.0</td>\n",
              "      <td>1</td>\n",
              "      <td>7</td>\n",
              "      <td>NaN</td>\n",
              "      <td>test</td>\n",
              "      <td>6</td>\n",
              "    </tr>\n",
              "  </tbody>\n",
              "</table>\n",
              "<p>2645 rows × 9 columns</p>\n",
              "</div>"
            ],
            "text/plain": [
              "       Airline  Source  Destination  Duration  Total_Stops  Additional_Info  \\\n",
              "10463        4       2            1     655.0            1                7   \n",
              "10464        3       3            0     240.0            1                7   \n",
              "10465        4       2            1    1425.0            1                5   \n",
              "10466        6       2            1     780.0            1                7   \n",
              "10467        0       0            2     170.0            0                7   \n",
              "...        ...     ...          ...       ...          ...              ...   \n",
              "13103        1       3            0    1435.0            1                7   \n",
              "13104        3       3            0     155.0            0                7   \n",
              "13105        4       2            1     395.0            1                7   \n",
              "13106        1       2            1     915.0            1                7   \n",
              "13107        6       2            1     860.0            1                7   \n",
              "\n",
              "       Price  data  Month  \n",
              "10463    NaN  test      6  \n",
              "10464    NaN  test     12  \n",
              "10465    NaN  test      5  \n",
              "10466    NaN  test      5  \n",
              "10467    NaN  test      6  \n",
              "...      ...   ...    ...  \n",
              "13103    NaN  test      6  \n",
              "13104    NaN  test      3  \n",
              "13105    NaN  test      6  \n",
              "13106    NaN  test      6  \n",
              "13107    NaN  test      6  \n",
              "\n",
              "[2645 rows x 9 columns]"
            ]
          },
          "execution_count": 60,
          "metadata": {},
          "output_type": "execute_result"
        }
      ],
      "source": [
        "flight_data_test"
      ]
    },
    {
      "cell_type": "code",
      "execution_count": null,
      "id": "d6514e05",
      "metadata": {
        "id": "d6514e05"
      },
      "outputs": [],
      "source": [
        "x=flight_data_train.drop(['Price','data'],axis=1)\n",
        "y=flight_data_train['Price']"
      ]
    },
    {
      "cell_type": "code",
      "execution_count": null,
      "id": "468cdef7",
      "metadata": {
        "id": "468cdef7"
      },
      "outputs": [],
      "source": [
        "# Scaling\n",
        "from sklearn.preprocessing import StandardScaler\n",
        "ss=StandardScaler()\n",
        "x_scaled=ss.fit_transform(x)"
      ]
    },
    {
      "cell_type": "code",
      "execution_count": null,
      "id": "776e82b6",
      "metadata": {
        "id": "776e82b6",
        "outputId": "3c9c9a53-7a49-4455-90bd-abe8897d5509"
      },
      "outputs": [
        {
          "data": {
            "image/png": "[encoded data removed]",
            "text/plain": [
              "<Figure size 1000x1000 with 2 Axes>"
            ]
          },
          "metadata": {},
          "output_type": "display_data"
        }
      ],
      "source": [
        "# Multicollineiarity\n",
        "plt.figure(figsize=(10,10))\n",
        "sns.heatmap(flight_data.corr(), annot=True)\n",
        "plt.show()"
      ]
    },
    {
      "cell_type": "code",
      "execution_count": null,
      "id": "72510a0d",
      "metadata": {
        "id": "72510a0d",
        "outputId": "d9a633cc-6032-4706-f927-9ca084045ac8"
      },
      "outputs": [
        {
          "data": {
            "text/html": [
              "<div>\n",
              "<style scoped>\n",
              "    .dataframe tbody tr th:only-of-type {\n",
              "        vertical-align: middle;\n",
              "    }\n",
              "\n",
              "    .dataframe tbody tr th {\n",
              "        vertical-align: top;\n",
              "    }\n",
              "\n",
              "    .dataframe thead th {\n",
              "        text-align: right;\n",
              "    }\n",
              "</style>\n",
              "<table border=\"1\" class=\"dataframe\">\n",
              "  <thead>\n",
              "    <tr style=\"text-align: right;\">\n",
              "      <th></th>\n",
              "      <th>variance_inflation_factor</th>\n",
              "      <th>features</th>\n",
              "    </tr>\n",
              "  </thead>\n",
              "  <tbody>\n",
              "    <tr>\n",
              "      <th>0</th>\n",
              "      <td>1.051200</td>\n",
              "      <td>Airline</td>\n",
              "    </tr>\n",
              "    <tr>\n",
              "      <th>1</th>\n",
              "      <td>1.535409</td>\n",
              "      <td>Source</td>\n",
              "    </tr>\n",
              "    <tr>\n",
              "      <th>2</th>\n",
              "      <td>1.631465</td>\n",
              "      <td>Destination</td>\n",
              "    </tr>\n",
              "    <tr>\n",
              "      <th>3</th>\n",
              "      <td>2.194291</td>\n",
              "      <td>Duration</td>\n",
              "    </tr>\n",
              "    <tr>\n",
              "      <th>4</th>\n",
              "      <td>2.229199</td>\n",
              "      <td>Total_Stops</td>\n",
              "    </tr>\n",
              "    <tr>\n",
              "      <th>5</th>\n",
              "      <td>1.039650</td>\n",
              "      <td>Additional_Info</td>\n",
              "    </tr>\n",
              "    <tr>\n",
              "      <th>6</th>\n",
              "      <td>1.012492</td>\n",
              "      <td>Month</td>\n",
              "    </tr>\n",
              "  </tbody>\n",
              "</table>\n",
              "</div>"
            ],
            "text/plain": [
              "   variance_inflation_factor         features\n",
              "0                   1.051200          Airline\n",
              "1                   1.535409           Source\n",
              "2                   1.631465      Destination\n",
              "3                   2.194291         Duration\n",
              "4                   2.229199      Total_Stops\n",
              "5                   1.039650  Additional_Info\n",
              "6                   1.012492            Month"
            ]
          },
          "execution_count": 64,
          "metadata": {},
          "output_type": "execute_result"
        }
      ],
      "source": [
        "from statsmodels.stats.outliers_influence import variance_inflation_factor\n",
        "vif=pd.DataFrame()\n",
        "vif['variance_inflation_factor']=[variance_inflation_factor(x_scaled,i)for i in range(x_scaled.shape[1])]\n",
        "vif['features']=x.columns\n",
        "vif"
      ]
    },
    {
      "cell_type": "markdown",
      "id": "f7dcb111",
      "metadata": {
        "id": "f7dcb111"
      },
      "source": [
        "# Model Building"
      ]
    },
    {
      "cell_type": "code",
      "execution_count": null,
      "id": "d05f6b5b",
      "metadata": {
        "id": "d05f6b5b"
      },
      "outputs": [],
      "source": [
        "# Split the data into training and test\n",
        "from sklearn.model_selection import train_test_split\n",
        "x_train, x_test, y_train, y_test = train_test_split(x, y, test_size=0.25, random_state=1)"
      ]
    },
    {
      "cell_type": "markdown",
      "id": "ae6a9f0e",
      "metadata": {
        "id": "ae6a9f0e"
      },
      "source": [
        "# Building Linear Regression"
      ]
    },
    {
      "cell_type": "code",
      "execution_count": null,
      "id": "0e4d8d8b",
      "metadata": {
        "id": "0e4d8d8b",
        "outputId": "08f4f9e9-39e1-45a6-8e93-adf433f4caba"
      },
      "outputs": [
        {
          "data": {
            "text/html": [
              "<style>#sk-container-id-1 {color: black;background-color: white;}#sk-container-id-1 pre{padding: 0;}#sk-container-id-1 div.sk-toggleable {background-color: white;}#sk-container-id-1 label.sk-toggleable__label {cursor: pointer;display: block;width: 100%;margin-bottom: 0;padding: 0.3em;box-sizing: border-box;text-align: center;}#sk-container-id-1 label.sk-toggleable__label-arrow:before {content: \"▸\";float: left;margin-right: 0.25em;color: #696969;}#sk-container-id-1 label.sk-toggleable__label-arrow:hover:before {color: black;}#sk-container-id-1 div.sk-estimator:hover label.sk-toggleable__label-arrow:before {color: black;}#sk-container-id-1 div.sk-toggleable__content {max-height: 0;max-width: 0;overflow: hidden;text-align: left;background-color: #f0f8ff;}#sk-container-id-1 div.sk-toggleable__content pre {margin: 0.2em;color: black;border-radius: 0.25em;background-color: #f0f8ff;}#sk-container-id-1 input.sk-toggleable__control:checked~div.sk-toggleable__content {max-height: 200px;max-width: 100%;overflow: auto;}#sk-container-id-1 input.sk-toggleable__control:checked~label.sk-toggleable__label-arrow:before {content: \"▾\";}#sk-container-id-1 div.sk-estimator input.sk-toggleable__control:checked~label.sk-toggleable__label {background-color: #d4ebff;}#sk-container-id-1 div.sk-label input.sk-toggleable__control:checked~label.sk-toggleable__label {background-color: #d4ebff;}#sk-container-id-1 input.sk-hidden--visually {border: 0;clip: rect(1px 1px 1px 1px);clip: rect(1px, 1px, 1px, 1px);height: 1px;margin: -1px;overflow: hidden;padding: 0;position: absolute;width: 1px;}#sk-container-id-1 div.sk-estimator {font-family: monospace;background-color: #f0f8ff;border: 1px dotted black;border-radius: 0.25em;box-sizing: border-box;margin-bottom: 0.5em;}#sk-container-id-1 div.sk-estimator:hover {background-color: #d4ebff;}#sk-container-id-1 div.sk-parallel-item::after {content: \"\";width: 100%;border-bottom: 1px solid gray;flex-grow: 1;}#sk-container-id-1 div.sk-label:hover label.sk-toggleable__label {background-color: #d4ebff;}#sk-container-id-1 div.sk-serial::before {content: \"\";position: absolute;border-left: 1px solid gray;box-sizing: border-box;top: 0;bottom: 0;left: 50%;z-index: 0;}#sk-container-id-1 div.sk-serial {display: flex;flex-direction: column;align-items: center;background-color: white;padding-right: 0.2em;padding-left: 0.2em;position: relative;}#sk-container-id-1 div.sk-item {position: relative;z-index: 1;}#sk-container-id-1 div.sk-parallel {display: flex;align-items: stretch;justify-content: center;background-color: white;position: relative;}#sk-container-id-1 div.sk-item::before, #sk-container-id-1 div.sk-parallel-item::before {content: \"\";position: absolute;border-left: 1px solid gray;box-sizing: border-box;top: 0;bottom: 0;left: 50%;z-index: -1;}#sk-container-id-1 div.sk-parallel-item {display: flex;flex-direction: column;z-index: 1;position: relative;background-color: white;}#sk-container-id-1 div.sk-parallel-item:first-child::after {align-self: flex-end;width: 50%;}#sk-container-id-1 div.sk-parallel-item:last-child::after {align-self: flex-start;width: 50%;}#sk-container-id-1 div.sk-parallel-item:only-child::after {width: 0;}#sk-container-id-1 div.sk-dashed-wrapped {border: 1px dashed gray;margin: 0 0.4em 0.5em 0.4em;box-sizing: border-box;padding-bottom: 0.4em;background-color: white;}#sk-container-id-1 div.sk-label label {font-family: monospace;font-weight: bold;display: inline-block;line-height: 1.2em;}#sk-container-id-1 div.sk-label-container {text-align: center;}#sk-container-id-1 div.sk-container {/* jupyter's `normalize.less` sets `[hidden] { display: none; }` but bootstrap.min.css set `[hidden] { display: none !important; }` so we also need the `!important` here to be able to override the default hidden behavior on the sphinx rendered scikit-learn.org. See: https://github.com/scikit-learn/scikit-learn/issues/21755 */display: inline-block !important;position: relative;}#sk-container-id-1 div.sk-text-repr-fallback {display: none;}</style><div id=\"sk-container-id-1\" class=\"sk-top-container\"><div class=\"sk-text-repr-fallback\"><pre>LinearRegression()</pre><b>In a Jupyter environment, please rerun this cell to show the HTML representation or trust the notebook. <br />On GitHub, the HTML representation is unable to render, please try loading this page with nbviewer.org.</b></div><div class=\"sk-container\" hidden><div class=\"sk-item\"><div class=\"sk-estimator sk-toggleable\"><input class=\"sk-toggleable__control sk-hidden--visually\" id=\"sk-estimator-id-1\" type=\"checkbox\" checked><label for=\"sk-estimator-id-1\" class=\"sk-toggleable__label sk-toggleable__label-arrow\">LinearRegression</label><div class=\"sk-toggleable__content\"><pre>LinearRegression()</pre></div></div></div></div></div>"
            ],
            "text/plain": [
              "LinearRegression()"
            ]
          },
          "execution_count": 66,
          "metadata": {},
          "output_type": "execute_result"
        }
      ],
      "source": [
        "from sklearn.linear_model import LinearRegression\n",
        "lr = LinearRegression()\n",
        "lr.fit(x_train, y_train)"
      ]
    },
    {
      "cell_type": "code",
      "execution_count": null,
      "id": "8f5d516a",
      "metadata": {
        "id": "8f5d516a",
        "outputId": "b3577faa-42f1-4d33-d0c1-d3f25840d0fd"
      },
      "outputs": [
        {
          "name": "stdout",
          "output_type": "stream",
          "text": [
            "[ 1.82930086e+02 -2.31841819e+02  2.97959087e+02  1.32311091e+00\n",
            "  3.89138512e+03 -3.56984291e+01 -3.83338977e+01]\n",
            "\n",
            "4822.096091160534\n"
          ]
        }
      ],
      "source": [
        "print(lr.coef_)\n",
        "print()\n",
        "print(lr.intercept_)"
      ]
    },
    {
      "cell_type": "code",
      "execution_count": null,
      "id": "aecd8659",
      "metadata": {
        "id": "aecd8659"
      },
      "outputs": [],
      "source": [
        "y_pred_train = lr.predict(x_train)\n",
        "y_pred_test = lr.predict(x_test)"
      ]
    },
    {
      "cell_type": "code",
      "execution_count": null,
      "id": "78c1014b",
      "metadata": {
        "id": "78c1014b",
        "outputId": "b5319cfa-14bd-4b01-f4d7-f7148f1935de"
      },
      "outputs": [
        {
          "name": "stdout",
          "output_type": "stream",
          "text": [
            "Training Accuracy : 0.39114389273227923\n",
            "\n",
            "Test Accuracy : 0.41271564271940586\n"
          ]
        }
      ],
      "source": [
        "# Evaluate the model\n",
        "from sklearn.metrics import r2_score\n",
        "print(\"Training Accuracy :\", r2_score(y_train, y_pred_train))\n",
        "print()\n",
        "print(\"Test Accuracy :\", r2_score(y_test, y_pred_test))"
      ]
    },
    {
      "cell_type": "markdown",
      "id": "4e92694b",
      "metadata": {
        "id": "4e92694b"
      },
      "source": [
        "# Regression with OLS method"
      ]
    },
    {
      "cell_type": "code",
      "execution_count": null,
      "id": "4362daa4",
      "metadata": {
        "id": "4362daa4"
      },
      "outputs": [],
      "source": [
        "from statsmodels.regression.linear_model import OLS\n",
        "import statsmodels.regression.linear_model as smf"
      ]
    },
    {
      "cell_type": "code",
      "execution_count": null,
      "id": "aa0158c8",
      "metadata": {
        "id": "aa0158c8",
        "outputId": "b8038699-4a57-4236-8cce-4d7adfd5b503"
      },
      "outputs": [
        {
          "data": {
            "text/html": [
              "<table class=\"simpletable\">\n",
              "<caption>OLS Regression Results</caption>\n",
              "<tr>\n",
              "  <th>Dep. Variable:</th>          <td>Price</td>      <th>  R-squared (uncentered):</th>      <td>   0.870</td> \n",
              "</tr>\n",
              "<tr>\n",
              "  <th>Model:</th>                   <td>OLS</td>       <th>  Adj. R-squared (uncentered):</th> <td>   0.870</td> \n",
              "</tr>\n",
              "<tr>\n",
              "  <th>Method:</th>             <td>Least Squares</td>  <th>  F-statistic:       </th>          <td>   7486.</td> \n",
              "</tr>\n",
              "<tr>\n",
              "  <th>Date:</th>             <td>Wed, 29 Nov 2023</td> <th>  Prob (F-statistic):</th>           <td>  0.00</td>  \n",
              "</tr>\n",
              "<tr>\n",
              "  <th>Time:</th>                 <td>13:41:49</td>     <th>  Log-Likelihood:    </th>          <td> -75523.</td> \n",
              "</tr>\n",
              "<tr>\n",
              "  <th>No. Observations:</th>      <td>  7846</td>      <th>  AIC:               </th>          <td>1.511e+05</td>\n",
              "</tr>\n",
              "<tr>\n",
              "  <th>Df Residuals:</th>          <td>  7839</td>      <th>  BIC:               </th>          <td>1.511e+05</td>\n",
              "</tr>\n",
              "<tr>\n",
              "  <th>Df Model:</th>              <td>     7</td>      <th>                     </th>              <td> </td>    \n",
              "</tr>\n",
              "<tr>\n",
              "  <th>Covariance Type:</th>      <td>nonrobust</td>    <th>                     </th>              <td> </td>    \n",
              "</tr>\n",
              "</table>\n",
              "<table class=\"simpletable\">\n",
              "<tr>\n",
              "         <td></td>            <th>coef</th>     <th>std err</th>      <th>t</th>      <th>P>|t|</th>  <th>[0.025</th>    <th>0.975]</th>  \n",
              "</tr>\n",
              "<tr>\n",
              "  <th>Airline</th>         <td>  248.0221</td> <td>   17.165</td> <td>   14.449</td> <td> 0.000</td> <td>  214.373</td> <td>  281.671</td>\n",
              "</tr>\n",
              "<tr>\n",
              "  <th>Source</th>          <td>  -74.9373</td> <td>   41.661</td> <td>   -1.799</td> <td> 0.072</td> <td> -156.604</td> <td>    6.729</td>\n",
              "</tr>\n",
              "<tr>\n",
              "  <th>Destination</th>     <td>  446.1364</td> <td>   33.828</td> <td>   13.188</td> <td> 0.000</td> <td>  379.824</td> <td>  512.449</td>\n",
              "</tr>\n",
              "<tr>\n",
              "  <th>Duration</th>        <td>    1.6489</td> <td>    0.120</td> <td>   13.718</td> <td> 0.000</td> <td>    1.413</td> <td>    1.885</td>\n",
              "</tr>\n",
              "<tr>\n",
              "  <th>Total_Stops</th>     <td> 3933.5542</td> <td>   93.786</td> <td>   41.942</td> <td> 0.000</td> <td> 3749.708</td> <td> 4117.400</td>\n",
              "</tr>\n",
              "<tr>\n",
              "  <th>Additional_Info</th> <td>  506.6348</td> <td>   23.405</td> <td>   21.647</td> <td> 0.000</td> <td>  460.755</td> <td>  552.515</td>\n",
              "</tr>\n",
              "<tr>\n",
              "  <th>Month</th>           <td>   -5.3096</td> <td>   13.684</td> <td>   -0.388</td> <td> 0.698</td> <td>  -32.134</td> <td>   21.515</td>\n",
              "</tr>\n",
              "</table>\n",
              "<table class=\"simpletable\">\n",
              "<tr>\n",
              "  <th>Omnibus:</th>       <td>6127.926</td> <th>  Durbin-Watson:     </th>  <td>   2.020</td> \n",
              "</tr>\n",
              "<tr>\n",
              "  <th>Prob(Omnibus):</th>  <td> 0.000</td>  <th>  Jarque-Bera (JB):  </th> <td>415575.197</td>\n",
              "</tr>\n",
              "<tr>\n",
              "  <th>Skew:</th>           <td> 3.205</td>  <th>  Prob(JB):          </th>  <td>    0.00</td> \n",
              "</tr>\n",
              "<tr>\n",
              "  <th>Kurtosis:</th>       <td>38.073</td>  <th>  Cond. No.          </th>  <td>1.83e+03</td> \n",
              "</tr>\n",
              "</table><br/><br/>Notes:<br/>[1] R² is computed without centering (uncentered) since the model does not contain a constant.<br/>[2] Standard Errors assume that the covariance matrix of the errors is correctly specified.<br/>[3] The condition number is large, 1.83e+03. This might indicate that there are<br/>strong multicollinearity or other numerical problems."
            ],
            "text/plain": [
              "<class 'statsmodels.iolib.summary.Summary'>\n",
              "\"\"\"\n",
              "                                 OLS Regression Results                                \n",
              "=======================================================================================\n",
              "Dep. Variable:                  Price   R-squared (uncentered):                   0.870\n",
              "Model:                            OLS   Adj. R-squared (uncentered):              0.870\n",
              "Method:                 Least Squares   F-statistic:                              7486.\n",
              "Date:                Wed, 29 Nov 2023   Prob (F-statistic):                        0.00\n",
              "Time:                        13:41:49   Log-Likelihood:                         -75523.\n",
              "No. Observations:                7846   AIC:                                  1.511e+05\n",
              "Df Residuals:                    7839   BIC:                                  1.511e+05\n",
              "Df Model:                           7                                                  \n",
              "Covariance Type:            nonrobust                                                  \n",
              "===================================================================================\n",
              "                      coef    std err          t      P>|t|      [0.025      0.975]\n",
              "-----------------------------------------------------------------------------------\n",
              "Airline           248.0221     17.165     14.449      0.000     214.373     281.671\n",
              "Source            -74.9373     41.661     -1.799      0.072    -156.604       6.729\n",
              "Destination       446.1364     33.828     13.188      0.000     379.824     512.449\n",
              "Duration            1.6489      0.120     13.718      0.000       1.413       1.885\n",
              "Total_Stops      3933.5542     93.786     41.942      0.000    3749.708    4117.400\n",
              "Additional_Info   506.6348     23.405     21.647      0.000     460.755     552.515\n",
              "Month              -5.3096     13.684     -0.388      0.698     -32.134      21.515\n",
              "==============================================================================\n",
              "Omnibus:                     6127.926   Durbin-Watson:                   2.020\n",
              "Prob(Omnibus):                  0.000   Jarque-Bera (JB):           415575.197\n",
              "Skew:                           3.205   Prob(JB):                         0.00\n",
              "Kurtosis:                      38.073   Cond. No.                     1.83e+03\n",
              "==============================================================================\n",
              "\n",
              "Notes:\n",
              "[1] R² is computed without centering (uncentered) since the model does not contain a constant.\n",
              "[2] Standard Errors assume that the covariance matrix of the errors is correctly specified.\n",
              "[3] The condition number is large, 1.83e+03. This might indicate that there are\n",
              "strong multicollinearity or other numerical problems.\n",
              "\"\"\""
            ]
          },
          "execution_count": 71,
          "metadata": {},
          "output_type": "execute_result"
        }
      ],
      "source": [
        "reg_model = smf.OLS(endog = y_train, exog=x_train).fit()\n",
        "reg_model.summary()"
      ]
    },
    {
      "cell_type": "code",
      "execution_count": null,
      "id": "453836ce",
      "metadata": {
        "id": "453836ce",
        "outputId": "2a2da10d-a5a1-4b1c-838a-01d42a2a5cdb"
      },
      "outputs": [
        {
          "data": {
            "text/plain": [
              "<matplotlib.collections.PathCollection at 0x16a2223a8f0>"
            ]
          },
          "execution_count": 72,
          "metadata": {},
          "output_type": "execute_result"
        },
        {
          "data": {
            "image/png": "[encoded data removed]",
            "text/plain": [
              "<Figure size 640x480 with 1 Axes>"
            ]
          },
          "metadata": {},
          "output_type": "display_data"
        }
      ],
      "source": [
        "plt.scatter(y_test, y_pred_test)"
      ]
    },
    {
      "cell_type": "code",
      "execution_count": null,
      "id": "7f9f6f27",
      "metadata": {
        "id": "7f9f6f27",
        "outputId": "d9e046e1-8ff9-4cc7-81c3-47659aba2593"
      },
      "outputs": [
        {
          "data": {
            "text/plain": [
              "<matplotlib.collections.PathCollection at 0x16a1ebbd870>"
            ]
          },
          "execution_count": 73,
          "metadata": {},
          "output_type": "execute_result"
        },
        {
          "data": {
            "image/png": "[encoded data removed]",
            "text/plain": [
              "<Figure size 640x480 with 1 Axes>"
            ]
          },
          "metadata": {},
          "output_type": "display_data"
        }
      ],
      "source": [
        "plt.scatter(y_train, y_pred_train)"
      ]
    },
    {
      "cell_type": "code",
      "execution_count": null,
      "id": "a6cbc84b",
      "metadata": {
        "id": "a6cbc84b",
        "outputId": "5af6489a-cdd6-4240-bd30-0ee7d22f4cd6"
      },
      "outputs": [
        {
          "data": {
            "text/plain": [
              "<Axes: xlabel='Price', ylabel='Density'>"
            ]
          },
          "execution_count": 74,
          "metadata": {},
          "output_type": "execute_result"
        },
        {
          "data": {
            "image/png": "[encoded data removed]",
            "text/plain": [
              "<Figure size 640x480 with 1 Axes>"
            ]
          },
          "metadata": {},
          "output_type": "display_data"
        }
      ],
      "source": [
        "# check residual should be normally distributed\n",
        "sns.distplot((y_test - y_pred_test), bins=50)"
      ]
    },
    {
      "cell_type": "code",
      "execution_count": null,
      "id": "a392e318",
      "metadata": {
        "id": "a392e318"
      },
      "outputs": [],
      "source": [
        "from sklearn import metrics"
      ]
    },
    {
      "cell_type": "code",
      "execution_count": null,
      "id": "8c3cd116",
      "metadata": {
        "id": "8c3cd116",
        "outputId": "4b81fff1-7890-4737-ddc6-2348c9d3128d"
      },
      "outputs": [
        {
          "name": "stdout",
          "output_type": "stream",
          "text": [
            "MAE : 2523.2641848557555\n",
            "\n",
            "MAPE : 32.95120239516475\n",
            "\n",
            "MSE : 12110850.254313795\n",
            "\n",
            "RMSE : 3480.0646911104677\n"
          ]
        }
      ],
      "source": [
        "print(\"MAE :\", metrics.mean_absolute_error(y_test, y_pred_test))\n",
        "print()\n",
        "print(\"MAPE :\", metrics.mean_absolute_percentage_error(y_test, y_pred_test)*100)\n",
        "print()\n",
        "print(\"MSE :\", metrics.mean_squared_error(y_test, y_pred_test))\n",
        "print()\n",
        "print(\"RMSE :\", np.sqrt(metrics.mean_squared_error(y_test, y_pred_test)))"
      ]
    },
    {
      "cell_type": "markdown",
      "id": "414301f6",
      "metadata": {
        "id": "414301f6"
      },
      "source": [
        "# Desicion Tree"
      ]
    },
    {
      "cell_type": "code",
      "execution_count": null,
      "id": "a6a65b02",
      "metadata": {
        "id": "a6a65b02",
        "outputId": "2196f9ba-dc50-455e-a59b-345350c3d75f"
      },
      "outputs": [
        {
          "data": {
            "text/html": [
              "<style>#sk-container-id-2 {color: black;background-color: white;}#sk-container-id-2 pre{padding: 0;}#sk-container-id-2 div.sk-toggleable {background-color: white;}#sk-container-id-2 label.sk-toggleable__label {cursor: pointer;display: block;width: 100%;margin-bottom: 0;padding: 0.3em;box-sizing: border-box;text-align: center;}#sk-container-id-2 label.sk-toggleable__label-arrow:before {content: \"▸\";float: left;margin-right: 0.25em;color: #696969;}#sk-container-id-2 label.sk-toggleable__label-arrow:hover:before {color: black;}#sk-container-id-2 div.sk-estimator:hover label.sk-toggleable__label-arrow:before {color: black;}#sk-container-id-2 div.sk-toggleable__content {max-height: 0;max-width: 0;overflow: hidden;text-align: left;background-color: #f0f8ff;}#sk-container-id-2 div.sk-toggleable__content pre {margin: 0.2em;color: black;border-radius: 0.25em;background-color: #f0f8ff;}#sk-container-id-2 input.sk-toggleable__control:checked~div.sk-toggleable__content {max-height: 200px;max-width: 100%;overflow: auto;}#sk-container-id-2 input.sk-toggleable__control:checked~label.sk-toggleable__label-arrow:before {content: \"▾\";}#sk-container-id-2 div.sk-estimator input.sk-toggleable__control:checked~label.sk-toggleable__label {background-color: #d4ebff;}#sk-container-id-2 div.sk-label input.sk-toggleable__control:checked~label.sk-toggleable__label {background-color: #d4ebff;}#sk-container-id-2 input.sk-hidden--visually {border: 0;clip: rect(1px 1px 1px 1px);clip: rect(1px, 1px, 1px, 1px);height: 1px;margin: -1px;overflow: hidden;padding: 0;position: absolute;width: 1px;}#sk-container-id-2 div.sk-estimator {font-family: monospace;background-color: #f0f8ff;border: 1px dotted black;border-radius: 0.25em;box-sizing: border-box;margin-bottom: 0.5em;}#sk-container-id-2 div.sk-estimator:hover {background-color: #d4ebff;}#sk-container-id-2 div.sk-parallel-item::after {content: \"\";width: 100%;border-bottom: 1px solid gray;flex-grow: 1;}#sk-container-id-2 div.sk-label:hover label.sk-toggleable__label {background-color: #d4ebff;}#sk-container-id-2 div.sk-serial::before {content: \"\";position: absolute;border-left: 1px solid gray;box-sizing: border-box;top: 0;bottom: 0;left: 50%;z-index: 0;}#sk-container-id-2 div.sk-serial {display: flex;flex-direction: column;align-items: center;background-color: white;padding-right: 0.2em;padding-left: 0.2em;position: relative;}#sk-container-id-2 div.sk-item {position: relative;z-index: 1;}#sk-container-id-2 div.sk-parallel {display: flex;align-items: stretch;justify-content: center;background-color: white;position: relative;}#sk-container-id-2 div.sk-item::before, #sk-container-id-2 div.sk-parallel-item::before {content: \"\";position: absolute;border-left: 1px solid gray;box-sizing: border-box;top: 0;bottom: 0;left: 50%;z-index: -1;}#sk-container-id-2 div.sk-parallel-item {display: flex;flex-direction: column;z-index: 1;position: relative;background-color: white;}#sk-container-id-2 div.sk-parallel-item:first-child::after {align-self: flex-end;width: 50%;}#sk-container-id-2 div.sk-parallel-item:last-child::after {align-self: flex-start;width: 50%;}#sk-container-id-2 div.sk-parallel-item:only-child::after {width: 0;}#sk-container-id-2 div.sk-dashed-wrapped {border: 1px dashed gray;margin: 0 0.4em 0.5em 0.4em;box-sizing: border-box;padding-bottom: 0.4em;background-color: white;}#sk-container-id-2 div.sk-label label {font-family: monospace;font-weight: bold;display: inline-block;line-height: 1.2em;}#sk-container-id-2 div.sk-label-container {text-align: center;}#sk-container-id-2 div.sk-container {/* jupyter's `normalize.less` sets `[hidden] { display: none; }` but bootstrap.min.css set `[hidden] { display: none !important; }` so we also need the `!important` here to be able to override the default hidden behavior on the sphinx rendered scikit-learn.org. See: https://github.com/scikit-learn/scikit-learn/issues/21755 */display: inline-block !important;position: relative;}#sk-container-id-2 div.sk-text-repr-fallback {display: none;}</style><div id=\"sk-container-id-2\" class=\"sk-top-container\"><div class=\"sk-text-repr-fallback\"><pre>DecisionTreeRegressor()</pre><b>In a Jupyter environment, please rerun this cell to show the HTML representation or trust the notebook. <br />On GitHub, the HTML representation is unable to render, please try loading this page with nbviewer.org.</b></div><div class=\"sk-container\" hidden><div class=\"sk-item\"><div class=\"sk-estimator sk-toggleable\"><input class=\"sk-toggleable__control sk-hidden--visually\" id=\"sk-estimator-id-2\" type=\"checkbox\" checked><label for=\"sk-estimator-id-2\" class=\"sk-toggleable__label sk-toggleable__label-arrow\">DecisionTreeRegressor</label><div class=\"sk-toggleable__content\"><pre>DecisionTreeRegressor()</pre></div></div></div></div></div>"
            ],
            "text/plain": [
              "DecisionTreeRegressor()"
            ]
          },
          "execution_count": 77,
          "metadata": {},
          "output_type": "execute_result"
        }
      ],
      "source": [
        "from sklearn.tree import DecisionTreeRegressor\n",
        "dt=DecisionTreeRegressor()\n",
        "dt.fit(x_train,y_train)"
      ]
    },
    {
      "cell_type": "code",
      "execution_count": null,
      "id": "910b5f6a",
      "metadata": {
        "id": "910b5f6a"
      },
      "outputs": [],
      "source": [
        "y_pred_train_dt = dt.predict(x_train)\n",
        "y_pred_test_dt = dt.predict(x_test)"
      ]
    },
    {
      "cell_type": "code",
      "execution_count": null,
      "id": "cc210b31",
      "metadata": {
        "id": "cc210b31",
        "outputId": "df4ba395-085d-4c7c-c12b-4d0efdf2ece2"
      },
      "outputs": [
        {
          "name": "stdout",
          "output_type": "stream",
          "text": [
            "Training Accuracy : 0.9264556372896544\n",
            "\n",
            "Test Accuracy : 0.6527268290438759\n"
          ]
        }
      ],
      "source": [
        "# Evaluate the model\n",
        "from sklearn.metrics import r2_score\n",
        "print(\"Training Accuracy :\", r2_score(y_train, y_pred_train_dt))\n",
        "print()\n",
        "print(\"Test Accuracy :\", r2_score(y_test, y_pred_test_dt))"
      ]
    },
    {
      "cell_type": "code",
      "execution_count": null,
      "id": "6f72381e",
      "metadata": {
        "id": "6f72381e",
        "outputId": "273cf711-737b-46f5-ee22-450bd00262c2"
      },
      "outputs": [
        {
          "data": {
            "text/html": [
              "<style>#sk-container-id-3 {color: black;background-color: white;}#sk-container-id-3 pre{padding: 0;}#sk-container-id-3 div.sk-toggleable {background-color: white;}#sk-container-id-3 label.sk-toggleable__label {cursor: pointer;display: block;width: 100%;margin-bottom: 0;padding: 0.3em;box-sizing: border-box;text-align: center;}#sk-container-id-3 label.sk-toggleable__label-arrow:before {content: \"▸\";float: left;margin-right: 0.25em;color: #696969;}#sk-container-id-3 label.sk-toggleable__label-arrow:hover:before {color: black;}#sk-container-id-3 div.sk-estimator:hover label.sk-toggleable__label-arrow:before {color: black;}#sk-container-id-3 div.sk-toggleable__content {max-height: 0;max-width: 0;overflow: hidden;text-align: left;background-color: #f0f8ff;}#sk-container-id-3 div.sk-toggleable__content pre {margin: 0.2em;color: black;border-radius: 0.25em;background-color: #f0f8ff;}#sk-container-id-3 input.sk-toggleable__control:checked~div.sk-toggleable__content {max-height: 200px;max-width: 100%;overflow: auto;}#sk-container-id-3 input.sk-toggleable__control:checked~label.sk-toggleable__label-arrow:before {content: \"▾\";}#sk-container-id-3 div.sk-estimator input.sk-toggleable__control:checked~label.sk-toggleable__label {background-color: #d4ebff;}#sk-container-id-3 div.sk-label input.sk-toggleable__control:checked~label.sk-toggleable__label {background-color: #d4ebff;}#sk-container-id-3 input.sk-hidden--visually {border: 0;clip: rect(1px 1px 1px 1px);clip: rect(1px, 1px, 1px, 1px);height: 1px;margin: -1px;overflow: hidden;padding: 0;position: absolute;width: 1px;}#sk-container-id-3 div.sk-estimator {font-family: monospace;background-color: #f0f8ff;border: 1px dotted black;border-radius: 0.25em;box-sizing: border-box;margin-bottom: 0.5em;}#sk-container-id-3 div.sk-estimator:hover {background-color: #d4ebff;}#sk-container-id-3 div.sk-parallel-item::after {content: \"\";width: 100%;border-bottom: 1px solid gray;flex-grow: 1;}#sk-container-id-3 div.sk-label:hover label.sk-toggleable__label {background-color: #d4ebff;}#sk-container-id-3 div.sk-serial::before {content: \"\";position: absolute;border-left: 1px solid gray;box-sizing: border-box;top: 0;bottom: 0;left: 50%;z-index: 0;}#sk-container-id-3 div.sk-serial {display: flex;flex-direction: column;align-items: center;background-color: white;padding-right: 0.2em;padding-left: 0.2em;position: relative;}#sk-container-id-3 div.sk-item {position: relative;z-index: 1;}#sk-container-id-3 div.sk-parallel {display: flex;align-items: stretch;justify-content: center;background-color: white;position: relative;}#sk-container-id-3 div.sk-item::before, #sk-container-id-3 div.sk-parallel-item::before {content: \"\";position: absolute;border-left: 1px solid gray;box-sizing: border-box;top: 0;bottom: 0;left: 50%;z-index: -1;}#sk-container-id-3 div.sk-parallel-item {display: flex;flex-direction: column;z-index: 1;position: relative;background-color: white;}#sk-container-id-3 div.sk-parallel-item:first-child::after {align-self: flex-end;width: 50%;}#sk-container-id-3 div.sk-parallel-item:last-child::after {align-self: flex-start;width: 50%;}#sk-container-id-3 div.sk-parallel-item:only-child::after {width: 0;}#sk-container-id-3 div.sk-dashed-wrapped {border: 1px dashed gray;margin: 0 0.4em 0.5em 0.4em;box-sizing: border-box;padding-bottom: 0.4em;background-color: white;}#sk-container-id-3 div.sk-label label {font-family: monospace;font-weight: bold;display: inline-block;line-height: 1.2em;}#sk-container-id-3 div.sk-label-container {text-align: center;}#sk-container-id-3 div.sk-container {/* jupyter's `normalize.less` sets `[hidden] { display: none; }` but bootstrap.min.css set `[hidden] { display: none !important; }` so we also need the `!important` here to be able to override the default hidden behavior on the sphinx rendered scikit-learn.org. See: https://github.com/scikit-learn/scikit-learn/issues/21755 */display: inline-block !important;position: relative;}#sk-container-id-3 div.sk-text-repr-fallback {display: none;}</style><div id=\"sk-container-id-3\" class=\"sk-top-container\"><div class=\"sk-text-repr-fallback\"><pre>RandomForestRegressor()</pre><b>In a Jupyter environment, please rerun this cell to show the HTML representation or trust the notebook. <br />On GitHub, the HTML representation is unable to render, please try loading this page with nbviewer.org.</b></div><div class=\"sk-container\" hidden><div class=\"sk-item\"><div class=\"sk-estimator sk-toggleable\"><input class=\"sk-toggleable__control sk-hidden--visually\" id=\"sk-estimator-id-3\" type=\"checkbox\" checked><label for=\"sk-estimator-id-3\" class=\"sk-toggleable__label sk-toggleable__label-arrow\">RandomForestRegressor</label><div class=\"sk-toggleable__content\"><pre>RandomForestRegressor()</pre></div></div></div></div></div>"
            ],
            "text/plain": [
              "RandomForestRegressor()"
            ]
          },
          "execution_count": 80,
          "metadata": {},
          "output_type": "execute_result"
        }
      ],
      "source": [
        "# Random Forest\n",
        "from sklearn.ensemble import RandomForestRegressor\n",
        "rf=RandomForestRegressor()\n",
        "rf.fit(x_train,y_train)"
      ]
    },
    {
      "cell_type": "code",
      "execution_count": null,
      "id": "fa8bad99",
      "metadata": {
        "id": "fa8bad99"
      },
      "outputs": [],
      "source": [
        "y_pred_train_rf = rf.predict(x_train)\n",
        "y_pred_test_rf = rf.predict(x_test)"
      ]
    },
    {
      "cell_type": "code",
      "execution_count": null,
      "id": "7913d0af",
      "metadata": {
        "id": "7913d0af",
        "outputId": "55b3320f-b2f7-4227-8a30-b96289e6fad1"
      },
      "outputs": [
        {
          "name": "stdout",
          "output_type": "stream",
          "text": [
            "Training Accuracy : 0.906595686681281\n",
            "\n",
            "Test Accuracy : 0.7401784268212588\n"
          ]
        }
      ],
      "source": [
        "# Evaluate the model\n",
        "from sklearn.metrics import r2_score\n",
        "print(\"Training Accuracy :\", r2_score(y_train, y_pred_train_rf))\n",
        "print()\n",
        "print(\"Test Accuracy :\", r2_score(y_test, y_pred_test_rf))"
      ]
    },
    {
      "cell_type": "code",
      "execution_count": null,
      "id": "a7246fa8",
      "metadata": {
        "id": "a7246fa8",
        "outputId": "9d5cbc80-a02e-4197-92f6-37875759fbb4"
      },
      "outputs": [
        {
          "name": "stdout",
          "output_type": "stream",
          "text": [
            "0.8189442729270848\n"
          ]
        }
      ],
      "source": [
        "from sklearn.model_selection import cross_val_score\n",
        "test_accuracy=cross_val_score(rf,x_test,y_test,cv=15)\n",
        "print(test_accuracy.max())"
      ]
    },
    {
      "cell_type": "markdown",
      "id": "6e0edbc0",
      "metadata": {
        "id": "6e0edbc0"
      },
      "source": [
        "From the above analysis we can conclude that the most preferred airlines are Jet_airways.\n",
        "The analysis also helped us that most of the flights take-off from Delhi and lands to the destination Cochin.\n",
        "We have predominantly handled the missing values and made preprocessing on the provided data to build the prediction model.\n",
        "With the help of EDA we were able to identify which airline has the highest price, i,e. Jet airways Bussiness by both scatter and barplots.\n",
        "Finally after scaling the data, i was successfully able to build the prediction model and predict the values. with Linear regression model the results were not that accurate, hence i decided to go with descision tree and random forest algorithm. finally with the help of RF algorith , the results were pretty accurate , hence i decided to fit the testing data with\n",
        "rf model and was successfully able to predict the results."
      ]
    },
    {
      "cell_type": "markdown",
      "id": "7e0fbdbe",
      "metadata": {
        "id": "7e0fbdbe"
      },
      "source": [
        "# Here we prefer the Random Forest Model to predict our Test data"
      ]
    },
    {
      "cell_type": "code",
      "execution_count": null,
      "id": "5abd8391",
      "metadata": {
        "id": "5abd8391"
      },
      "outputs": [],
      "source": [
        "flight_data_test.drop(['Price','data'],axis=1,inplace=True)"
      ]
    },
    {
      "cell_type": "code",
      "execution_count": null,
      "id": "3a0801da",
      "metadata": {
        "id": "3a0801da",
        "outputId": "3ac527a2-d01d-4e0a-c7c5-6fe4f694eedb"
      },
      "outputs": [
        {
          "data": {
            "text/html": [
              "<div>\n",
              "<style scoped>\n",
              "    .dataframe tbody tr th:only-of-type {\n",
              "        vertical-align: middle;\n",
              "    }\n",
              "\n",
              "    .dataframe tbody tr th {\n",
              "        vertical-align: top;\n",
              "    }\n",
              "\n",
              "    .dataframe thead th {\n",
              "        text-align: right;\n",
              "    }\n",
              "</style>\n",
              "<table border=\"1\" class=\"dataframe\">\n",
              "  <thead>\n",
              "    <tr style=\"text-align: right;\">\n",
              "      <th></th>\n",
              "      <th>Airline</th>\n",
              "      <th>Source</th>\n",
              "      <th>Destination</th>\n",
              "      <th>Duration</th>\n",
              "      <th>Total_Stops</th>\n",
              "      <th>Additional_Info</th>\n",
              "      <th>Month</th>\n",
              "    </tr>\n",
              "  </thead>\n",
              "  <tbody>\n",
              "    <tr>\n",
              "      <th>10463</th>\n",
              "      <td>4</td>\n",
              "      <td>2</td>\n",
              "      <td>1</td>\n",
              "      <td>655.0</td>\n",
              "      <td>1</td>\n",
              "      <td>7</td>\n",
              "      <td>6</td>\n",
              "    </tr>\n",
              "    <tr>\n",
              "      <th>10464</th>\n",
              "      <td>3</td>\n",
              "      <td>3</td>\n",
              "      <td>0</td>\n",
              "      <td>240.0</td>\n",
              "      <td>1</td>\n",
              "      <td>7</td>\n",
              "      <td>12</td>\n",
              "    </tr>\n",
              "    <tr>\n",
              "      <th>10465</th>\n",
              "      <td>4</td>\n",
              "      <td>2</td>\n",
              "      <td>1</td>\n",
              "      <td>1425.0</td>\n",
              "      <td>1</td>\n",
              "      <td>5</td>\n",
              "      <td>5</td>\n",
              "    </tr>\n",
              "    <tr>\n",
              "      <th>10466</th>\n",
              "      <td>6</td>\n",
              "      <td>2</td>\n",
              "      <td>1</td>\n",
              "      <td>780.0</td>\n",
              "      <td>1</td>\n",
              "      <td>7</td>\n",
              "      <td>5</td>\n",
              "    </tr>\n",
              "    <tr>\n",
              "      <th>10467</th>\n",
              "      <td>0</td>\n",
              "      <td>0</td>\n",
              "      <td>2</td>\n",
              "      <td>170.0</td>\n",
              "      <td>0</td>\n",
              "      <td>7</td>\n",
              "      <td>6</td>\n",
              "    </tr>\n",
              "    <tr>\n",
              "      <th>...</th>\n",
              "      <td>...</td>\n",
              "      <td>...</td>\n",
              "      <td>...</td>\n",
              "      <td>...</td>\n",
              "      <td>...</td>\n",
              "      <td>...</td>\n",
              "      <td>...</td>\n",
              "    </tr>\n",
              "    <tr>\n",
              "      <th>13103</th>\n",
              "      <td>1</td>\n",
              "      <td>3</td>\n",
              "      <td>0</td>\n",
              "      <td>1435.0</td>\n",
              "      <td>1</td>\n",
              "      <td>7</td>\n",
              "      <td>6</td>\n",
              "    </tr>\n",
              "    <tr>\n",
              "      <th>13104</th>\n",
              "      <td>3</td>\n",
              "      <td>3</td>\n",
              "      <td>0</td>\n",
              "      <td>155.0</td>\n",
              "      <td>0</td>\n",
              "      <td>7</td>\n",
              "      <td>3</td>\n",
              "    </tr>\n",
              "    <tr>\n",
              "      <th>13105</th>\n",
              "      <td>4</td>\n",
              "      <td>2</td>\n",
              "      <td>1</td>\n",
              "      <td>395.0</td>\n",
              "      <td>1</td>\n",
              "      <td>7</td>\n",
              "      <td>6</td>\n",
              "    </tr>\n",
              "    <tr>\n",
              "      <th>13106</th>\n",
              "      <td>1</td>\n",
              "      <td>2</td>\n",
              "      <td>1</td>\n",
              "      <td>915.0</td>\n",
              "      <td>1</td>\n",
              "      <td>7</td>\n",
              "      <td>6</td>\n",
              "    </tr>\n",
              "    <tr>\n",
              "      <th>13107</th>\n",
              "      <td>6</td>\n",
              "      <td>2</td>\n",
              "      <td>1</td>\n",
              "      <td>860.0</td>\n",
              "      <td>1</td>\n",
              "      <td>7</td>\n",
              "      <td>6</td>\n",
              "    </tr>\n",
              "  </tbody>\n",
              "</table>\n",
              "<p>2645 rows × 7 columns</p>\n",
              "</div>"
            ],
            "text/plain": [
              "       Airline  Source  Destination  Duration  Total_Stops  Additional_Info  \\\n",
              "10463        4       2            1     655.0            1                7   \n",
              "10464        3       3            0     240.0            1                7   \n",
              "10465        4       2            1    1425.0            1                5   \n",
              "10466        6       2            1     780.0            1                7   \n",
              "10467        0       0            2     170.0            0                7   \n",
              "...        ...     ...          ...       ...          ...              ...   \n",
              "13103        1       3            0    1435.0            1                7   \n",
              "13104        3       3            0     155.0            0                7   \n",
              "13105        4       2            1     395.0            1                7   \n",
              "13106        1       2            1     915.0            1                7   \n",
              "13107        6       2            1     860.0            1                7   \n",
              "\n",
              "       Month  \n",
              "10463      6  \n",
              "10464     12  \n",
              "10465      5  \n",
              "10466      5  \n",
              "10467      6  \n",
              "...      ...  \n",
              "13103      6  \n",
              "13104      3  \n",
              "13105      6  \n",
              "13106      6  \n",
              "13107      6  \n",
              "\n",
              "[2645 rows x 7 columns]"
            ]
          },
          "execution_count": 87,
          "metadata": {},
          "output_type": "execute_result"
        }
      ],
      "source": [
        "flight_data_test"
      ]
    },
    {
      "cell_type": "code",
      "execution_count": null,
      "id": "2c237d2d",
      "metadata": {
        "id": "2c237d2d"
      },
      "outputs": [],
      "source": [
        "final_prediction=rf.predict(flight_data_test)"
      ]
    },
    {
      "cell_type": "code",
      "execution_count": null,
      "id": "b6d55390",
      "metadata": {
        "id": "b6d55390"
      },
      "outputs": [],
      "source": [
        "final_result=pd.DataFrame(final_prediction)"
      ]
    },
    {
      "cell_type": "code",
      "execution_count": null,
      "id": "21313664",
      "metadata": {
        "id": "21313664"
      },
      "outputs": [],
      "source": [
        "final_result.rename(columns={0:'Price'},inplace=True)"
      ]
    },
    {
      "cell_type": "code",
      "execution_count": null,
      "id": "fd714ea8",
      "metadata": {
        "id": "fd714ea8",
        "outputId": "c8846863-de2a-45e5-ed09-42a947afc423"
      },
      "outputs": [
        {
          "data": {
            "text/html": [
              "<div>\n",
              "<style scoped>\n",
              "    .dataframe tbody tr th:only-of-type {\n",
              "        vertical-align: middle;\n",
              "    }\n",
              "\n",
              "    .dataframe tbody tr th {\n",
              "        vertical-align: top;\n",
              "    }\n",
              "\n",
              "    .dataframe thead th {\n",
              "        text-align: right;\n",
              "    }\n",
              "</style>\n",
              "<table border=\"1\" class=\"dataframe\">\n",
              "  <thead>\n",
              "    <tr style=\"text-align: right;\">\n",
              "      <th></th>\n",
              "      <th>Price</th>\n",
              "    </tr>\n",
              "  </thead>\n",
              "  <tbody>\n",
              "    <tr>\n",
              "      <th>0</th>\n",
              "      <td>15007.820357</td>\n",
              "    </tr>\n",
              "    <tr>\n",
              "      <th>1</th>\n",
              "      <td>4226.000000</td>\n",
              "    </tr>\n",
              "    <tr>\n",
              "      <th>2</th>\n",
              "      <td>12628.212500</td>\n",
              "    </tr>\n",
              "    <tr>\n",
              "      <th>3</th>\n",
              "      <td>11353.158183</td>\n",
              "    </tr>\n",
              "    <tr>\n",
              "      <th>4</th>\n",
              "      <td>4222.260275</td>\n",
              "    </tr>\n",
              "    <tr>\n",
              "      <th>...</th>\n",
              "      <td>...</td>\n",
              "    </tr>\n",
              "    <tr>\n",
              "      <th>2640</th>\n",
              "      <td>10086.243333</td>\n",
              "    </tr>\n",
              "    <tr>\n",
              "      <th>2641</th>\n",
              "      <td>5092.229711</td>\n",
              "    </tr>\n",
              "    <tr>\n",
              "      <th>2642</th>\n",
              "      <td>15312.955000</td>\n",
              "    </tr>\n",
              "    <tr>\n",
              "      <th>2643</th>\n",
              "      <td>10009.073333</td>\n",
              "    </tr>\n",
              "    <tr>\n",
              "      <th>2644</th>\n",
              "      <td>7443.158976</td>\n",
              "    </tr>\n",
              "  </tbody>\n",
              "</table>\n",
              "<p>2645 rows × 1 columns</p>\n",
              "</div>"
            ],
            "text/plain": [
              "             Price\n",
              "0     15007.820357\n",
              "1      4226.000000\n",
              "2     12628.212500\n",
              "3     11353.158183\n",
              "4      4222.260275\n",
              "...            ...\n",
              "2640  10086.243333\n",
              "2641   5092.229711\n",
              "2642  15312.955000\n",
              "2643  10009.073333\n",
              "2644   7443.158976\n",
              "\n",
              "[2645 rows x 1 columns]"
            ]
          },
          "execution_count": 96,
          "metadata": {},
          "output_type": "execute_result"
        }
      ],
      "source": [
        "final_result"
      ]
    },
    {
      "cell_type": "code",
      "execution_count": null,
      "id": "9febdde9",
      "metadata": {
        "id": "9febdde9"
      },
      "outputs": [],
      "source": [
        "flight_data_test['Price']=final_result['Price'].values"
      ]
    },
    {
      "cell_type": "code",
      "execution_count": null,
      "id": "c4bb245d",
      "metadata": {
        "id": "c4bb245d",
        "outputId": "6a364147-3c3e-4a2d-a7f8-2658704686a6"
      },
      "outputs": [
        {
          "data": {
            "text/html": [
              "<div>\n",
              "<style scoped>\n",
              "    .dataframe tbody tr th:only-of-type {\n",
              "        vertical-align: middle;\n",
              "    }\n",
              "\n",
              "    .dataframe tbody tr th {\n",
              "        vertical-align: top;\n",
              "    }\n",
              "\n",
              "    .dataframe thead th {\n",
              "        text-align: right;\n",
              "    }\n",
              "</style>\n",
              "<table border=\"1\" class=\"dataframe\">\n",
              "  <thead>\n",
              "    <tr style=\"text-align: right;\">\n",
              "      <th></th>\n",
              "      <th>Airline</th>\n",
              "      <th>Source</th>\n",
              "      <th>Destination</th>\n",
              "      <th>Duration</th>\n",
              "      <th>Total_Stops</th>\n",
              "      <th>Additional_Info</th>\n",
              "      <th>Month</th>\n",
              "      <th>Price</th>\n",
              "    </tr>\n",
              "  </thead>\n",
              "  <tbody>\n",
              "    <tr>\n",
              "      <th>10463</th>\n",
              "      <td>4</td>\n",
              "      <td>2</td>\n",
              "      <td>1</td>\n",
              "      <td>655.0</td>\n",
              "      <td>1</td>\n",
              "      <td>7</td>\n",
              "      <td>6</td>\n",
              "      <td>15007.820357</td>\n",
              "    </tr>\n",
              "    <tr>\n",
              "      <th>10464</th>\n",
              "      <td>3</td>\n",
              "      <td>3</td>\n",
              "      <td>0</td>\n",
              "      <td>240.0</td>\n",
              "      <td>1</td>\n",
              "      <td>7</td>\n",
              "      <td>12</td>\n",
              "      <td>4226.000000</td>\n",
              "    </tr>\n",
              "    <tr>\n",
              "      <th>10465</th>\n",
              "      <td>4</td>\n",
              "      <td>2</td>\n",
              "      <td>1</td>\n",
              "      <td>1425.0</td>\n",
              "      <td>1</td>\n",
              "      <td>5</td>\n",
              "      <td>5</td>\n",
              "      <td>12628.212500</td>\n",
              "    </tr>\n",
              "    <tr>\n",
              "      <th>10466</th>\n",
              "      <td>6</td>\n",
              "      <td>2</td>\n",
              "      <td>1</td>\n",
              "      <td>780.0</td>\n",
              "      <td>1</td>\n",
              "      <td>7</td>\n",
              "      <td>5</td>\n",
              "      <td>11353.158183</td>\n",
              "    </tr>\n",
              "    <tr>\n",
              "      <th>10467</th>\n",
              "      <td>0</td>\n",
              "      <td>0</td>\n",
              "      <td>2</td>\n",
              "      <td>170.0</td>\n",
              "      <td>0</td>\n",
              "      <td>7</td>\n",
              "      <td>6</td>\n",
              "      <td>4222.260275</td>\n",
              "    </tr>\n",
              "    <tr>\n",
              "      <th>...</th>\n",
              "      <td>...</td>\n",
              "      <td>...</td>\n",
              "      <td>...</td>\n",
              "      <td>...</td>\n",
              "      <td>...</td>\n",
              "      <td>...</td>\n",
              "      <td>...</td>\n",
              "      <td>...</td>\n",
              "    </tr>\n",
              "    <tr>\n",
              "      <th>13103</th>\n",
              "      <td>1</td>\n",
              "      <td>3</td>\n",
              "      <td>0</td>\n",
              "      <td>1435.0</td>\n",
              "      <td>1</td>\n",
              "      <td>7</td>\n",
              "      <td>6</td>\n",
              "      <td>10086.243333</td>\n",
              "    </tr>\n",
              "    <tr>\n",
              "      <th>13104</th>\n",
              "      <td>3</td>\n",
              "      <td>3</td>\n",
              "      <td>0</td>\n",
              "      <td>155.0</td>\n",
              "      <td>0</td>\n",
              "      <td>7</td>\n",
              "      <td>3</td>\n",
              "      <td>5092.229711</td>\n",
              "    </tr>\n",
              "    <tr>\n",
              "      <th>13105</th>\n",
              "      <td>4</td>\n",
              "      <td>2</td>\n",
              "      <td>1</td>\n",
              "      <td>395.0</td>\n",
              "      <td>1</td>\n",
              "      <td>7</td>\n",
              "      <td>6</td>\n",
              "      <td>15312.955000</td>\n",
              "    </tr>\n",
              "    <tr>\n",
              "      <th>13106</th>\n",
              "      <td>1</td>\n",
              "      <td>2</td>\n",
              "      <td>1</td>\n",
              "      <td>915.0</td>\n",
              "      <td>1</td>\n",
              "      <td>7</td>\n",
              "      <td>6</td>\n",
              "      <td>10009.073333</td>\n",
              "    </tr>\n",
              "    <tr>\n",
              "      <th>13107</th>\n",
              "      <td>6</td>\n",
              "      <td>2</td>\n",
              "      <td>1</td>\n",
              "      <td>860.0</td>\n",
              "      <td>1</td>\n",
              "      <td>7</td>\n",
              "      <td>6</td>\n",
              "      <td>7443.158976</td>\n",
              "    </tr>\n",
              "  </tbody>\n",
              "</table>\n",
              "<p>2645 rows × 8 columns</p>\n",
              "</div>"
            ],
            "text/plain": [
              "       Airline  Source  Destination  Duration  Total_Stops  Additional_Info  \\\n",
              "10463        4       2            1     655.0            1                7   \n",
              "10464        3       3            0     240.0            1                7   \n",
              "10465        4       2            1    1425.0            1                5   \n",
              "10466        6       2            1     780.0            1                7   \n",
              "10467        0       0            2     170.0            0                7   \n",
              "...        ...     ...          ...       ...          ...              ...   \n",
              "13103        1       3            0    1435.0            1                7   \n",
              "13104        3       3            0     155.0            0                7   \n",
              "13105        4       2            1     395.0            1                7   \n",
              "13106        1       2            1     915.0            1                7   \n",
              "13107        6       2            1     860.0            1                7   \n",
              "\n",
              "       Month         Price  \n",
              "10463      6  15007.820357  \n",
              "10464     12   4226.000000  \n",
              "10465      5  12628.212500  \n",
              "10466      5  11353.158183  \n",
              "10467      6   4222.260275  \n",
              "...      ...           ...  \n",
              "13103      6  10086.243333  \n",
              "13104      3   5092.229711  \n",
              "13105      6  15312.955000  \n",
              "13106      6  10009.073333  \n",
              "13107      6   7443.158976  \n",
              "\n",
              "[2645 rows x 8 columns]"
            ]
          },
          "execution_count": 98,
          "metadata": {},
          "output_type": "execute_result"
        }
      ],
      "source": [
        "flight_data_test"
      ]
    },
    {
      "cell_type": "code",
      "execution_count": null,
      "id": "bbb25444",
      "metadata": {
        "id": "bbb25444"
      },
      "outputs": [],
      "source": [
        "flight_data_test.to_csv('Flight_Price_Prediction_Tazneen.csv')"
      ]
    },
    {
      "cell_type": "markdown",
      "id": "be861ff0",
      "metadata": {
        "id": "be861ff0"
      },
      "source": [
        "# Conclusion"
      ]
    },
    {
      "cell_type": "markdown",
      "id": "63ca1d7a",
      "metadata": {
        "id": "63ca1d7a"
      },
      "source": [
        "# WE finally predicted the price for our testing data"
      ]
    },
    {
      "cell_type": "code",
      "execution_count": null,
      "id": "b062a3f1",
      "metadata": {
        "id": "b062a3f1"
      },
      "outputs": [],
      "source": []
    }
  ],
  "metadata": {
    "kernelspec": {
      "display_name": "Python 3 (ipykernel)",
      "language": "python",
      "name": "python3"
    },
    "language_info": {
      "codemirror_mode": {
        "name": "ipython",
        "version": 3
      },
      "file_extension": ".py",
      "mimetype": "text/x-python",
      "name": "python",
      "nbconvert_exporter": "python",
      "pygments_lexer": "ipython3",
      "version": "3.10.9"
    },
    "colab": {
      "provenance": [],
      "include_colab_link": true
    }
  },
  "nbformat": 4,
  "nbformat_minor": 5
}